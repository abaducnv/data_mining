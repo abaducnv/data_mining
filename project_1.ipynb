{
  "nbformat": 4,
  "nbformat_minor": 0,
  "metadata": {
    "kernelspec": {
      "display_name": "Python 3",
      "language": "python",
      "name": "python3"
    },
    "language_info": {
      "codemirror_mode": {
        "name": "ipython",
        "version": 3
      },
      "file_extension": ".py",
      "mimetype": "text/x-python",
      "name": "python",
      "nbconvert_exporter": "python",
      "pygments_lexer": "ipython3",
      "version": "3.6.5"
    },
    "colab": {
      "name": "project_1.ipynb",
      "provenance": [],
      "collapsed_sections": [],
      "include_colab_link": true
    }
  },
  "cells": [
    {
      "cell_type": "markdown",
      "metadata": {
        "id": "view-in-github",
        "colab_type": "text"
      },
      "source": [
        "<a href=\"https://colab.research.google.com/github/abaducnv/data_mining/blob/master/project_1.ipynb\" target=\"_parent\"><img src=\"https://colab.research.google.com/assets/colab-badge.svg\" alt=\"Open In Colab\"/></a>"
      ]
    },
    {
      "cell_type": "code",
      "metadata": {
        "trusted": true,
        "_uuid": "11ce4eaf13356cd47e341aea85670f36a13164d8",
        "id": "p-ygKoTUN0er",
        "colab_type": "code",
        "colab": {}
      },
      "source": [
        "import numpy as np\n",
        "import pandas as pd"
      ],
      "execution_count": null,
      "outputs": []
    },
    {
      "cell_type": "code",
      "metadata": {
        "id": "eB3sGP3e7GFK",
        "colab_type": "code",
        "colab": {
          "base_uri": "https://localhost:8080/",
          "height": 35
        },
        "outputId": "ad19d626-bbcf-4f85-9242-bae76f67b94f"
      },
      "source": [
        "from google.colab import drive\n",
        "drive.mount('/content/drive')"
      ],
      "execution_count": null,
      "outputs": [
        {
          "output_type": "stream",
          "text": [
            "Drive already mounted at /content/drive; to attempt to forcibly remount, call drive.mount(\"/content/drive\", force_remount=True).\n"
          ],
          "name": "stdout"
        }
      ]
    },
    {
      "cell_type": "code",
      "metadata": {
        "trusted": true,
        "_uuid": "00ccd78c37c014efdae85197f9ef43699277d755",
        "id": "6TLbBSMiN0eu",
        "colab_type": "code",
        "colab": {}
      },
      "source": [
        "import matplotlib.pyplot as plt\n",
        "import seaborn as sns\n",
        "%matplotlib inline"
      ],
      "execution_count": null,
      "outputs": []
    },
    {
      "cell_type": "markdown",
      "metadata": {
        "id": "GOisDiwy8bpe",
        "colab_type": "text"
      },
      "source": [
        "đoc dữ liệu"
      ]
    },
    {
      "cell_type": "code",
      "metadata": {
        "trusted": true,
        "_uuid": "8163f26bff8891be58ce9cbf544d8a67f71974ec",
        "id": "j6dE2PwIN0ey",
        "colab_type": "code",
        "colab": {
          "base_uri": "https://localhost:8080/",
          "height": 194
        },
        "outputId": "60d59673-109f-4884-fcad-90ed270d71bf"
      },
      "source": [
        "#df = pd.read_excel('data_lazada_2.xlsx')\n",
        "df = pd.read_csv('/content/drive/My Drive/Colab Notebooks/data_mining/datatext.csv')[['category','content']]\n",
        "df.columns = ['label', 'message']\n",
        "df.head()"
      ],
      "execution_count": null,
      "outputs": [
        {
          "output_type": "execute_result",
          "data": {
            "text/html": [
              "<div>\n",
              "<style scoped>\n",
              "    .dataframe tbody tr th:only-of-type {\n",
              "        vertical-align: middle;\n",
              "    }\n",
              "\n",
              "    .dataframe tbody tr th {\n",
              "        vertical-align: top;\n",
              "    }\n",
              "\n",
              "    .dataframe thead th {\n",
              "        text-align: right;\n",
              "    }\n",
              "</style>\n",
              "<table border=\"1\" class=\"dataframe\">\n",
              "  <thead>\n",
              "    <tr style=\"text-align: right;\">\n",
              "      <th></th>\n",
              "      <th>label</th>\n",
              "      <th>message</th>\n",
              "    </tr>\n",
              "  </thead>\n",
              "  <tbody>\n",
              "    <tr>\n",
              "      <th>0</th>\n",
              "      <td>1</td>\n",
              "      <td>washington reuters the donald trump administr...</td>\n",
              "    </tr>\n",
              "    <tr>\n",
              "      <th>1</th>\n",
              "      <td>1</td>\n",
              "      <td>if you want to be leader whom people follow w...</td>\n",
              "    </tr>\n",
              "    <tr>\n",
              "      <th>2</th>\n",
              "      <td>1</td>\n",
              "      <td>starbucks ha been ordered to pay florida woma...</td>\n",
              "    </tr>\n",
              "    <tr>\n",
              "      <th>3</th>\n",
              "      <td>1</td>\n",
              "      <td>talentsmart ha conducted research with more t...</td>\n",
              "    </tr>\n",
              "    <tr>\n",
              "      <th>4</th>\n",
              "      <td>1</td>\n",
              "      <td>wall street looked at the news coming out of ...</td>\n",
              "    </tr>\n",
              "  </tbody>\n",
              "</table>\n",
              "</div>"
            ],
            "text/plain": [
              "   label                                            message\n",
              "0      1   washington reuters the donald trump administr...\n",
              "1      1   if you want to be leader whom people follow w...\n",
              "2      1   starbucks ha been ordered to pay florida woma...\n",
              "3      1   talentsmart ha conducted research with more t...\n",
              "4      1   wall street looked at the news coming out of ..."
            ]
          },
          "metadata": {
            "tags": []
          },
          "execution_count": 34
        }
      ]
    },
    {
      "cell_type": "code",
      "metadata": {
        "trusted": true,
        "_uuid": "95fa040f71997610cba921618485ae2d465e1188",
        "id": "uSC7sAZ-N0e1",
        "colab_type": "code",
        "colab": {
          "base_uri": "https://localhost:8080/",
          "height": 252
        },
        "outputId": "eb4c0d80-9cff-426c-db11-bbba1fe54bfa"
      },
      "source": [
        "df.groupby('label').describe()"
      ],
      "execution_count": null,
      "outputs": [
        {
          "output_type": "execute_result",
          "data": {
            "text/html": [
              "<div>\n",
              "<style scoped>\n",
              "    .dataframe tbody tr th:only-of-type {\n",
              "        vertical-align: middle;\n",
              "    }\n",
              "\n",
              "    .dataframe tbody tr th {\n",
              "        vertical-align: top;\n",
              "    }\n",
              "\n",
              "    .dataframe thead tr th {\n",
              "        text-align: left;\n",
              "    }\n",
              "\n",
              "    .dataframe thead tr:last-of-type th {\n",
              "        text-align: right;\n",
              "    }\n",
              "</style>\n",
              "<table border=\"1\" class=\"dataframe\">\n",
              "  <thead>\n",
              "    <tr>\n",
              "      <th></th>\n",
              "      <th colspan=\"4\" halign=\"left\">message</th>\n",
              "    </tr>\n",
              "    <tr>\n",
              "      <th></th>\n",
              "      <th>count</th>\n",
              "      <th>unique</th>\n",
              "      <th>top</th>\n",
              "      <th>freq</th>\n",
              "    </tr>\n",
              "    <tr>\n",
              "      <th>label</th>\n",
              "      <th></th>\n",
              "      <th></th>\n",
              "      <th></th>\n",
              "      <th></th>\n",
              "    </tr>\n",
              "  </thead>\n",
              "  <tbody>\n",
              "    <tr>\n",
              "      <th>1</th>\n",
              "      <td>1500</td>\n",
              "      <td>1500</td>\n",
              "      <td>brian shin founder ceo visible measure the pr...</td>\n",
              "      <td>1</td>\n",
              "    </tr>\n",
              "    <tr>\n",
              "      <th>2</th>\n",
              "      <td>1500</td>\n",
              "      <td>1498</td>\n",
              "      <td>streamline recommends moonrise kingdom a the ...</td>\n",
              "      <td>3</td>\n",
              "    </tr>\n",
              "    <tr>\n",
              "      <th>3</th>\n",
              "      <td>1500</td>\n",
              "      <td>1499</td>\n",
              "      <td>student from marjory stoneman douglas high sc...</td>\n",
              "      <td>2</td>\n",
              "    </tr>\n",
              "    <tr>\n",
              "      <th>4</th>\n",
              "      <td>1500</td>\n",
              "      <td>1500</td>\n",
              "      <td>the mystery behind the rio olympics unsightly...</td>\n",
              "      <td>1</td>\n",
              "    </tr>\n",
              "    <tr>\n",
              "      <th>5</th>\n",
              "      <td>1499</td>\n",
              "      <td>1497</td>\n",
              "      <td>apple is standing up for it right to lock dow...</td>\n",
              "      <td>2</td>\n",
              "    </tr>\n",
              "  </tbody>\n",
              "</table>\n",
              "</div>"
            ],
            "text/plain": [
              "      message                                                               \n",
              "        count unique                                                top freq\n",
              "label                                                                       \n",
              "1        1500   1500   brian shin founder ceo visible measure the pr...    1\n",
              "2        1500   1498   streamline recommends moonrise kingdom a the ...    3\n",
              "3        1500   1499   student from marjory stoneman douglas high sc...    2\n",
              "4        1500   1500   the mystery behind the rio olympics unsightly...    1\n",
              "5        1499   1497   apple is standing up for it right to lock dow...    2"
            ]
          },
          "metadata": {
            "tags": []
          },
          "execution_count": 35
        }
      ]
    },
    {
      "cell_type": "code",
      "metadata": {
        "trusted": true,
        "_uuid": "79bbf66e99ac1a0c4c71dcdd7854060037682c06",
        "id": "mJz1iuhRN0e4",
        "colab_type": "code",
        "colab": {
          "base_uri": "https://localhost:8080/",
          "height": 297
        },
        "outputId": "bac9533f-1c23-4ec6-d584-66741752a496"
      },
      "source": [
        "sns.countplot(data=df, x='label')"
      ],
      "execution_count": null,
      "outputs": [
        {
          "output_type": "execute_result",
          "data": {
            "text/plain": [
              "<matplotlib.axes._subplots.AxesSubplot at 0x7fe4b06a8438>"
            ]
          },
          "metadata": {
            "tags": []
          },
          "execution_count": 36
        },
        {
          "output_type": "display_data",
          "data": {
            "image/png": "[encoded data removed]",
            "text/plain": [
              "<Figure size 432x288 with 1 Axes>"
            ]
          },
          "metadata": {
            "tags": [],
            "needs_background": "light"
          }
        }
      ]
    },
    {
      "cell_type": "code",
      "metadata": {
        "trusted": true,
        "_uuid": "500971b5d102765bb5e6537943dd3e3d7ce9af02",
        "id": "eJMZNa6FN0e9",
        "colab_type": "code",
        "colab": {
          "base_uri": "https://localhost:8080/",
          "height": 52
        },
        "outputId": "49e8d176-0d05-4960-a0d3-1e6d53c3ecbe"
      },
      "source": [
        "import string\n",
        "import nltk\n",
        "from nltk.corpus import stopwords\n",
        "nltk.download('stopwords')\n",
        "from nltk import PorterStemmer as Stemmer\n",
        "def process(text):\n",
        "    # chuyển về chữ thường\n",
        "    text = str(text).lower()\n",
        "    # bỏ các dấu câu\n",
        "    text = ''.join([t for t in text if t not in string.punctuation])\n",
        "    # remove stopwords\n",
        "    text = [t for t in text.split() if t not in stopwords.words('english')]\n",
        "    # stemming\n",
        "    st = Stemmer()\n",
        "    text = [st.stem(t) for t in text]\n",
        "    # return token list\n",
        "    return text"
      ],
      "execution_count": null,
      "outputs": [
        {
          "output_type": "stream",
          "text": [
            "[nltk_data] Downloading package stopwords to /root/nltk_data...\n",
            "[nltk_data]   Package stopwords is already up-to-date!\n"
          ],
          "name": "stdout"
        }
      ]
    },
    {
      "cell_type": "code",
      "metadata": {
        "trusted": true,
        "_uuid": "659631e15f988f3f7282eaea14799243a7e25b5f",
        "id": "CNzKjRJ4N0fC",
        "colab_type": "code",
        "colab": {
          "base_uri": "https://localhost:8080/",
          "height": 390
        },
        "outputId": "c8000735-8b86-46be-d000-d22bc01d20ec"
      },
      "source": [
        "# Test with our dataset\n",
        "df['message'][:20].apply(process)"
      ],
      "execution_count": null,
      "outputs": [
        {
          "output_type": "execute_result",
          "data": {
            "text/plain": [
              "0     [washington, reuter, donald, trump, administr,...\n",
              "1     [want, leader, peopl, follow, absolut, convict...\n",
              "2     [starbuck, ha, order, pay, florida, woman, 100...\n",
              "3     [talentsmart, ha, conduct, research, million, ...\n",
              "4     [wall, street, look, news, come, washington, d...\n",
              "5     [sophi, quinton, krishna, regmi, start, work, ...\n",
              "6     [alreadi, stab, uber, way, potenti, disastr, l...\n",
              "7     [new, york, reuter, u, film, tv, studio, weins...\n",
              "8     [traffic, nerv, blister, pit, stain, hard, cop...\n",
              "9     [want, million, dollar, learn, negoti, salari,...\n",
              "10    [one, popular, dilbert, comic, strip, cartoon,...\n",
              "11    [mani, thing, get, good, hardwork, peopl, fire...\n",
              "12    [influenti, peopl, profound, impact, everyon, ...\n",
              "13    [waymo, lawsuit, uber, alleg, ridehail, giant,...\n",
              "14    [go, without, say, first, time, anyth, rare, e...\n",
              "15    [generallyunspoken, wellunderstood, rule, work...\n",
              "16    [what, wrong, twoword, question, summarili, im...\n",
              "17    [world, went, bit, duller, crayola, announc, m...\n",
              "18    [washington, reuter, fortyf, u, trade, associ,...\n",
              "19    [feder, judg, heard, argument, wednesday, case...\n",
              "Name: message, dtype: object"
            ]
          },
          "metadata": {
            "tags": []
          },
          "execution_count": 38
        }
      ]
    },
    {
      "cell_type": "code",
      "metadata": {
        "trusted": true,
        "_uuid": "4711298940409577a836454bc669566f9f547535",
        "id": "sN_wPOiRN0fH",
        "colab_type": "code",
        "colab": {}
      },
      "source": [
        "from sklearn.feature_extraction.text import TfidfVectorizer"
      ],
      "execution_count": null,
      "outputs": []
    },
    {
      "cell_type": "markdown",
      "metadata": {
        "id": "hHcoaWtr-YiI",
        "colab_type": "text"
      },
      "source": [
        "Mã hóa Tfidf"
      ]
    },
    {
      "cell_type": "code",
      "metadata": {
        "trusted": true,
        "_uuid": "0afb400d1c0b2e74bccc09e44b1698616034b003",
        "id": "qZiDZkyTN0fL",
        "colab_type": "code",
        "colab": {}
      },
      "source": [
        "\n",
        "tfidfv = TfidfVectorizer(analyzer=process)\n",
        "data = tfidfv.fit_transform(df['message'].values.astype('U'))"
      ],
      "execution_count": null,
      "outputs": []
    },
    {
      "cell_type": "code",
      "metadata": {
        "trusted": true,
        "_uuid": "1f93614292ab0f16354350e1e4f4e71db843a785",
        "id": "pSQ818vDN0fQ",
        "colab_type": "code",
        "colab": {
          "base_uri": "https://localhost:8080/",
          "height": 55
        },
        "outputId": "88e39277-d2db-41ba-f5c7-5b12ff95974a"
      },
      "source": [
        "mess = df.iloc[2]['message']\n",
        "print(mess)"
      ],
      "execution_count": null,
      "outputs": [
        {
          "output_type": "stream",
          "text": [
            " starbucks ha been ordered to pay florida woman 100000 after she suffered first and seconddegree burn from their coffee her lawyer announced joanne mogavero 43 endured permanent scarring after the lid on ventisized pike place coffee popped off at jacksonville drivethru window in 2014 the slip led to the scalding 190degree beverage to pour on her lap her attorney said in statement the lid wa either not attached properly or wa defective her lawsuit said according to copy that huffpost obtained a duval county jury on thursday awarded the mother of three 85000 for pain and suffering physical impairment disfigurement inconvenience and loss of capacity for enjoyment of life it also ordered that she receive 15000 for medical bill mogaveros lawyer pressed that the coffee giant should warn it customer that their lid have tendency to pop off during trial starbucks representative reportedly testified that the company receives 80 complaint month about lid coming off and leaking like this despite this amount they said it would not be relevant to warn customer of this risk mogaveros lawyer said my client didnt want sympathy from the jury she wanted justice and the jury gave it to her with it verdict said her lawyer steve earle in statement it wa good to see just result a spokesperson for starbucks told fortune that the company is considering an appeal and is standing by the employee involved in this case huffpost contacted starbucks and mogavero for comment saturday morning\n"
          ],
          "name": "stdout"
        }
      ]
    },
    {
      "cell_type": "code",
      "metadata": {
        "trusted": true,
        "_uuid": "eff9cedfea7508bdafd8a361acbd82a554e16ea4",
        "id": "F-_QPZmYN0fU",
        "colab_type": "code",
        "colab": {
          "base_uri": "https://localhost:8080/",
          "height": 924
        },
        "outputId": "c2c01bcf-dad8-433b-ed05-ea488d8fe30a"
      },
      "source": [
        "print(tfidfv.transform([mess]))"
      ],
      "execution_count": null,
      "outputs": [
        {
          "output_type": "stream",
          "text": [
            "  (0, 55318)\t0.02201555289370372\n",
            "  (0, 55133)\t0.03387103425108603\n",
            "  (0, 54933)\t0.06151837305995713\n",
            "  (0, 54042)\t0.0930302799324798\n",
            "  (0, 53996)\t0.05305180884962282\n",
            "  (0, 53842)\t0.0492252985521462\n",
            "  (0, 53321)\t0.07939163551602019\n",
            "  (0, 53299)\t0.11559076729690276\n",
            "  (0, 51208)\t0.05810471505629371\n",
            "  (0, 50719)\t0.0242655076305579\n",
            "  (0, 50423)\t0.03593237992690306\n",
            "  (0, 50310)\t0.03289969181456069\n",
            "  (0, 49888)\t0.06400378057311833\n",
            "  (0, 49777)\t0.0710634456286206\n",
            "  (0, 49079)\t0.07807209619365443\n",
            "  (0, 48547)\t0.10268742023168227\n",
            "  (0, 47940)\t0.05296324078914078\n",
            "  (0, 47751)\t0.06521157066235113\n",
            "  (0, 47658)\t0.29281811178744155\n",
            "  (0, 47618)\t0.04082242934429902\n",
            "  (0, 47363)\t0.058361627451622176\n",
            "  (0, 46452)\t0.06863182791937655\n",
            "  (0, 44750)\t0.02883589506948595\n",
            "  (0, 44680)\t0.09990111365187064\n",
            "  (0, 44212)\t0.08675309927365273\n",
            "  :\t:\n",
            "  (0, 13419)\t0.054578640599424334\n",
            "  (0, 13361)\t0.03170138963045021\n",
            "  (0, 13322)\t0.026273089217379402\n",
            "  (0, 13131)\t0.20093371999846307\n",
            "  (0, 12843)\t0.05392710395396372\n",
            "  (0, 11576)\t0.03579244506223592\n",
            "  (0, 11298)\t0.0638017755471458\n",
            "  (0, 10759)\t0.059659554965185026\n",
            "  (0, 9117)\t0.03979415989612653\n",
            "  (0, 8951)\t0.08167503800320887\n",
            "  (0, 7645)\t0.04762092011808808\n",
            "  (0, 7424)\t0.04380645312631066\n",
            "  (0, 7400)\t0.06463011308548595\n",
            "  (0, 6769)\t0.053746248246632156\n",
            "  (0, 6404)\t0.033526895806999184\n",
            "  (0, 6175)\t0.044602563101180034\n",
            "  (0, 5962)\t0.02030939728104293\n",
            "  (0, 4968)\t0.02652590442481141\n",
            "  (0, 4421)\t0.09035604108320716\n",
            "  (0, 4305)\t0.056384772718037\n",
            "  (0, 3015)\t0.06764070894381047\n",
            "  (0, 1574)\t0.04219004565504552\n",
            "  (0, 1288)\t0.11559076729690276\n",
            "  (0, 845)\t0.08010748978263002\n",
            "  (0, 109)\t0.06697790666615434\n"
          ],
          "name": "stdout"
        }
      ]
    },
    {
      "cell_type": "code",
      "metadata": {
        "trusted": true,
        "_uuid": "ca0301f27a459041ed7ecbf4450352b7e4993034",
        "id": "ckR2otqUN0fX",
        "colab_type": "code",
        "colab": {
          "base_uri": "https://localhost:8080/",
          "height": 1000
        },
        "outputId": "802f350d-e5e9-4987-cd9f-ce94eddd523d"
      },
      "source": [
        "j = tfidfv.transform([mess]).toarray()[0]\n",
        "print('index\\tidf\\ttfidf\\tterm')\n",
        "for i in range(len(j)):\n",
        "    if j[i] != 0:\n",
        "        print(i, format(tfidfv.idf_[i], '.4f'), format(j[i], '.4f'), tfidfv.get_feature_names()[i],sep='\\t')"
      ],
      "execution_count": null,
      "outputs": [
        {
          "output_type": "stream",
          "text": [
            "index\tidf\ttfidf\tterm\n",
            "109\t5.3479\t0.0670\t100000\n",
            "845\t6.3963\t0.0801\t15000\n",
            "1288\t9.2295\t0.1156\t190degre\n",
            "1574\t3.3687\t0.0422\t2014\n",
            "3015\t5.4009\t0.0676\t43\n",
            "4305\t4.5021\t0.0564\t80\n",
            "4421\t7.2146\t0.0904\t85000\n",
            "4968\t2.1180\t0.0265\taccord\n",
            "5962\t1.6216\t0.0203\talso\n",
            "6175\t3.5614\t0.0446\tamount\n",
            "6404\t2.6770\t0.0335\tannounc\n",
            "6769\t4.2914\t0.0537\tappeal\n",
            "7400\t5.1605\t0.0646\tattach\n",
            "7424\t3.4978\t0.0438\tattorney\n",
            "7645\t3.8024\t0.0476\taward\n",
            "8951\t6.5215\t0.0817\tbeverag\n",
            "9117\t3.1774\t0.0398\tbill\n",
            "10759\t4.7636\t0.0597\tburn\n",
            "11298\t5.0943\t0.0638\tcapac\n",
            "11576\t2.8579\t0.0358\tcase\n",
            "12843\t4.3059\t0.0539\tclient\n",
            "13131\t5.3479\t0.2009\tcoffe\n",
            "13322\t2.0978\t0.0263\tcome\n",
            "13361\t2.5312\t0.0317\tcomment\n",
            "13419\t2.1790\t0.0546\tcompani\n",
            "13459\t4.3354\t0.0543\tcomplaint\n",
            "13713\t2.9961\t0.0375\tconsid\n",
            "13783\t4.1797\t0.0523\tcontact\n",
            "13929\t4.8475\t0.0607\tcopi\n",
            "14203\t4.4092\t0.0552\tcounti\n",
            "14846\t3.3365\t0.0836\tcustom\n",
            "15591\t6.1850\t0.0775\tdefect\n",
            "15988\t3.4184\t0.0428\tdespit\n",
            "16196\t2.6330\t0.0330\tdidnt\n",
            "16480\t8.8240\t0.1105\tdisfigur\n",
            "17178\t8.3132\t0.1041\tdrivethru\n",
            "17452\t8.8240\t0.1105\tduval\n",
            "17544\t6.7872\t0.0850\tearl\n",
            "17927\t3.5125\t0.0440\teither\n",
            "18221\t3.2318\t0.0405\temploye\n",
            "18322\t5.4228\t0.0679\tendur\n",
            "18386\t4.0011\t0.0501\tenjoy\n",
            "20185\t1.9505\t0.0244\tfirst\n",
            "20505\t3.8896\t0.0487\tflorida\n",
            "20826\t4.5996\t0.0576\tfortun\n",
            "21788\t3.6146\t0.0453\tgave\n",
            "22105\t3.8729\t0.0485\tgiant\n",
            "22574\t2.4790\t0.0310\tgood\n",
            "23428\t1.3628\t0.0171\tha\n",
            "25535\t2.6791\t0.0671\thuffpost\n",
            "26138\t6.1615\t0.0772\timpair\n",
            "26315\t6.2591\t0.0784\tinconveni\n",
            "26977\t3.1916\t0.0400\tinvolv\n",
            "27293\t7.4378\t0.0932\tjacksonvil\n",
            "27696\t7.8432\t0.0982\tjoann\n",
            "27995\t5.4009\t0.2029\tjuri\n",
            "28008\t3.7344\t0.0468\tjustic\n",
            "29532\t6.2338\t0.0781\tlap\n",
            "29736\t3.9957\t0.0500\tlawsuit\n",
            "29739\t3.8404\t0.1924\tlawyer\n",
            "29815\t4.9668\t0.0622\tleak\n",
            "29874\t3.5947\t0.0450\tled\n",
            "30210\t7.5248\t0.3770\tlid\n",
            "30233\t2.5288\t0.0317\tlife\n",
            "30307\t1.6897\t0.0212\tlike\n",
            "30842\t4.1236\t0.0516\tloss\n",
            "32539\t4.2122\t0.0528\tmedic\n",
            "33720\t9.2295\t0.4624\tmogavero\n",
            "33910\t2.3020\t0.0288\tmonth\n",
            "34007\t3.5841\t0.0449\tmorn\n",
            "34111\t3.9488\t0.0495\tmother\n",
            "36422\t4.1236\t0.0516\tobtain\n",
            "37174\t3.0778\t0.0771\torder\n",
            "37813\t4.3814\t0.0549\tpain\n",
            "38261\t2.9178\t0.0365\tpay\n",
            "38599\t4.9120\t0.0615\tperman\n",
            "38895\t4.0283\t0.0505\tphysic\n",
            "38997\t7.8432\t0.0982\tpike\n",
            "39149\t2.6699\t0.0334\tplace\n",
            "39542\t4.5428\t0.1138\tpop\n",
            "39829\t5.5659\t0.0697\tpour\n",
            "40140\t3.1192\t0.0391\tpress\n",
            "40512\t5.2222\t0.0654\tproperli\n",
            "41768\t2.8927\t0.0725\treceiv\n",
            "42158\t4.6144\t0.0578\trelev\n",
            "42318\t3.5735\t0.0448\treportedli\n",
            "42330\t3.0079\t0.0377\trepres\n",
            "42479\t3.0320\t0.0380\tresult\n",
            "42858\t3.6182\t0.0453\trisk\n",
            "43747\t1.4141\t0.0886\tsaid\n",
            "44092\t3.4289\t0.0429\tsaturday\n",
            "44177\t8.8240\t0.1105\tscald\n",
            "44212\t6.9269\t0.0868\tscar\n",
            "44680\t7.9767\t0.0999\tseconddegre\n",
            "44750\t2.3024\t0.0288\tsee\n",
            "46452\t5.4800\t0.0686\tslip\n",
            "47363\t4.6600\t0.0584\tspokesperson\n",
            "47618\t3.2595\t0.0408\tstand\n",
            "47658\t5.8451\t0.2928\tstarbuck\n",
            "47751\t2.6035\t0.0652\tstatement\n",
            "47940\t4.2289\t0.0530\tsteve\n",
            "48547\t4.0996\t0.1027\tsuffer\n",
            "49079\t6.2338\t0.0781\tsympathi\n",
            "49777\t5.6742\t0.0711\ttendenc\n",
            "49888\t5.1105\t0.0640\ttestifi\n",
            "50310\t2.6269\t0.0329\tthree\n",
            "50423\t2.8691\t0.0359\tthursday\n",
            "50719\t1.9375\t0.0243\ttold\n",
            "51208\t4.6395\t0.0581\ttrial\n",
            "53299\t9.2295\t0.1156\tventis\n",
            "53321\t6.3391\t0.0794\tverdict\n",
            "53842\t1.3102\t0.0492\twa\n",
            "53996\t2.1180\t0.0531\twant\n",
            "54042\t3.7141\t0.0930\twarn\n",
            "54933\t4.9120\t0.0615\twindow\n",
            "55133\t2.7045\t0.0339\twoman\n",
            "55318\t1.7579\t0.0220\twould\n"
          ],
          "name": "stdout"
        }
      ]
    },
    {
      "cell_type": "code",
      "metadata": {
        "trusted": true,
        "_uuid": "5685a89bdfa619ae1413437aee6d4024077c73d3",
        "id": "8eIMTPHEN0ff",
        "colab_type": "code",
        "colab": {}
      },
      "source": [
        "from sklearn.pipeline import Pipeline\n",
        "from sklearn.naive_bayes import MultinomialNB\n",
        "text = Pipeline([\n",
        "    ('vectorizer', TfidfVectorizer(analyzer=process)), # messages to weighted TFIDF score\n",
        "    ('classifier', MultinomialNB())                    # train on TFIDF vectors with Naive Bayes\n",
        "])"
      ],
      "execution_count": null,
      "outputs": []
    },
    {
      "cell_type": "markdown",
      "metadata": {
        "_uuid": "8707bbc4eb1ad42849c45793ff7c78e6977de6a1",
        "id": "XNh_DVVDN0fh",
        "colab_type": "text"
      },
      "source": [
        "**Perform train test split**"
      ]
    },
    {
      "cell_type": "code",
      "metadata": {
        "trusted": true,
        "_uuid": "c946f692d4c604cb5c0b94d14ad049ae54db140c",
        "id": "J-ceGRuPN0fi",
        "colab_type": "code",
        "colab": {}
      },
      "source": [
        "from sklearn.model_selection import train_test_split\n",
        "x_train, x_test, y_train, y_test = train_test_split(df['message'].values.astype('U'), df['label'], test_size=0.05)\n",
        "#id=4463\n",
        "#x_train=df['message'][0:id].values.astype('U')\n",
        "#y_train=df['label'][0:id]\n",
        "#x_test=df['message'][id:].values.astype('U')\n",
        "#y_test=df['label'][id:]"
      ],
      "execution_count": null,
      "outputs": []
    },
    {
      "cell_type": "code",
      "metadata": {
        "trusted": true,
        "_uuid": "577d06464b3350f7c40b583818b75d97875205a0",
        "id": "Erkcbo-aN0fn",
        "colab_type": "code",
        "colab": {
          "base_uri": "https://localhost:8080/",
          "height": 301
        },
        "outputId": "b12b2d38-2006-42e5-ceec-3bbb0b4ea60b"
      },
      "source": [
        "text.fit(x_train, y_train)"
      ],
      "execution_count": null,
      "outputs": [
        {
          "output_type": "execute_result",
          "data": {
            "text/plain": [
              "Pipeline(memory=None,\n",
              "         steps=[('vectorizer',\n",
              "                 TfidfVectorizer(analyzer=<function process at 0x7fe4b07ce268>,\n",
              "                                 binary=False, decode_error='strict',\n",
              "                                 dtype=<class 'numpy.float64'>,\n",
              "                                 encoding='utf-8', input='content',\n",
              "                                 lowercase=True, max_df=1.0, max_features=None,\n",
              "                                 min_df=1, ngram_range=(1, 1), norm='l2',\n",
              "                                 preprocessor=None, smooth_idf=True,\n",
              "                                 stop_words=None, strip_accents=None,\n",
              "                                 sublinear_tf=False,\n",
              "                                 token_pattern='(?u)\\\\b\\\\w\\\\w+\\\\b',\n",
              "                                 tokenizer=None, use_idf=True,\n",
              "                                 vocabulary=None)),\n",
              "                ('classifier',\n",
              "                 MultinomialNB(alpha=1.0, class_prior=None, fit_prior=True))],\n",
              "         verbose=False)"
            ]
          },
          "metadata": {
            "tags": []
          },
          "execution_count": 46
        }
      ]
    },
    {
      "cell_type": "markdown",
      "metadata": {
        "_uuid": "d8278911d15092c3c4b226636bab9c79b4dd310b",
        "id": "QtlUXgVQN0fu",
        "colab_type": "text"
      },
      "source": [
        "**Predict for test cases**"
      ]
    },
    {
      "cell_type": "code",
      "metadata": {
        "trusted": true,
        "_uuid": "0591c0c7bb36f033051855728908c2ef0b1fa2f5",
        "id": "T_ZZYP7GN0fv",
        "colab_type": "code",
        "colab": {}
      },
      "source": [
        "predictions = text.predict(x_test)"
      ],
      "execution_count": null,
      "outputs": []
    },
    {
      "cell_type": "code",
      "metadata": {
        "trusted": true,
        "_uuid": "0b5dd451d1f1cf5cc1d7548720474bd0293b18b9",
        "id": "ExMvF4YpN0fx",
        "colab_type": "code",
        "colab": {
          "base_uri": "https://localhost:8080/",
          "height": 50
        },
        "outputId": "ddcb6b32-4795-4f19-def2-6a0dc89830a9"
      },
      "source": [
        "count = 0\n",
        "for i in range(len(y_test)):\n",
        "    if y_test.iloc[i] != predictions[i]:\n",
        "        count += 1\n",
        "print('Total number of test cases', len(y_test))\n",
        "print('Number of wrong of predictions', count)"
      ],
      "execution_count": null,
      "outputs": [
        {
          "output_type": "stream",
          "text": [
            "Total number of test cases 375\n",
            "Number of wrong of predictions 50\n"
          ],
          "name": "stdout"
        }
      ]
    },
    {
      "cell_type": "markdown",
      "metadata": {
        "_uuid": "17916e6ce16c1eee2f3fc765a87b247e8eb008aa",
        "id": "sUCFrARcN0f0",
        "colab_type": "text"
      },
      "source": [
        "**Check for wrong predictions that were classified as ham**"
      ]
    },
    {
      "cell_type": "code",
      "metadata": {
        "trusted": true,
        "_uuid": "4e826b346995dd748e156f21122606458f6c8c7c",
        "id": "5bwgMqRbN0f1",
        "colab_type": "code",
        "colab": {
          "base_uri": "https://localhost:8080/",
          "height": 890
        },
        "outputId": "5842f3b1-66e7-48ae-a055-17da81bc2f59"
      },
      "source": [
        "#x_test[y_test != predictions]"
      ],
      "execution_count": null,
      "outputs": [
        {
          "output_type": "execute_result",
          "data": {
            "text/plain": [
              "array([' a tesla car appears to have successfully used it autopilot feature to predict car crash moment before it happened according to dashcam footage released this week the vehicle forward collision warning system is heard sounding an alert just before the car come to stop tesla representative confirmed to cnbnc a the car brake the vehicle ahead is rammed into the guardrail according to han noordsij the twitter user and electric car enthusiast who shared the video tuesday no one involved in the crash suffered serious injury a tesla representative declined to comment on the authenticity of the footage according to tesla website it autopilot feature help the car sense what is in front of it by using redundant wavelength that is able to see through heavy rain fog dust and even the car ahead the latest update for the radar technology wa released in september to all tesla equipped with the original autopilot technology the company is expected to roll out it enhanced autopilot featuring selfparking and automatic lanechanging capability before the end of the year but tesla innovative technology hasnt always proven reliable a florida man wa killed in june while riding in tesla model in selfdriving mode the national highway traffic safety administration said the car failed to apply the brake when tractortrailer turned in front of it another tesla model wa involved in january car crash in china the chinese government blamed an earlier version of autopilot for the death of the driver after the car reportedly failed to brake before crashing into slowmoving truck despite these deadly incident tesla ceo elon musk is standing by the technology and ha made it cornerstone of his company strategy autopilot ha been used for more than half century a flying assistant in aircraft musk told reporter in an october press call it doe not represent selfdriving any more than an autopiloted aircraft represents selfflying musk also announced in october that all tesla car from here on out would be equipped with the hardware needed to go completely driverless the foundation is laid for car to be fully autonomous at safety level we believe to be at least twice that of person maybe better musk said',\n",
              "       ' american airline denies that it discriminated against muslim passenger who said one of the airline flight attendant told him will be watching you before eventually getting him kicked off the flight we thoroughly reviewed these allegation and concluded that no discrimination occurred the airline said in statement on thursday we serve customer of all background and faith and do not tolerate discrimination of any kind the airline however did not address the specific and alarming allegation made by the muslim passenger mohamed ahmed radwan 40yearold engineer from florida mr radwans account speaks for itself radwans lawyer maha sayed told the huffington post on thursday american airline ha not denied any of the salient fact recounted by mr radwan and we firmly believe that the decision to remove him from the flight wa motivated by prejudice sayed who work for the council on americanislamic relation muslim civil right group sent letter on wednesday accusing american airline of removing her client from the december flight not out of legitimate and credible safety concern or need but because of his identifiably arabic and muslim name the letter sent to the department of transportation office of aviation and enforcement proceeding say that radwan boarded detroitbound flight at charlotte douglas international airport in charlotte north carolina on dec 6 2015 a he took his designated seat 25a female flight attendant loudly said mohamed ahmed seat 25a will be watching you according to the letter about minute later the attendant allegedly said mohamed ahmed that is very long name seat 25a will be watching you and then added in louder and more aggressive voice 25a you will be watched according to the letter passenger in radwans vicinity heard the attendant remark the attendant also did not make statement about or to any other passenger when radwan asked the attendant about her remark she allegedly replied that she wa monitoring everyone radwan say he questioned this telling the attendant shed only said his name and seat number aloud and that her action were discriminatory to this the attendant allegedly said radwan wa being too sensitive and walked away after recounting the woman remark to the other flight attendant radwan wa reportedly informed that american airline would have to remove him from the flight for making the first female flight attendant uncomfortable i felt too unsafe to fly with american again radwan told the charlotte observer about the incident adding that he had to book much later flight at cost of about 1500 but it about more than money and being inconvenienced he told the paper ive been u citizen for 13 year but at that moment felt my sense of being american taken from me and he not the only one in at least four incident this year the letter from radwans lawyer state muslim say airline in the united state discriminated against them in march muslim family wa removed from an united airline flight after requesting an additional strap for their child booster seat in april muslim passenger wa removed from southwest airline flight after passenger heard him speaking arabic he had said inshallah which mean godwilling or hopefully also in april muslim somali woman say she wa removed from flight with no good explanation and in june bearded man say he wa removed from an alaska airline flight after passenger allegedly said he looked arabic and scary for the last six month the huffington post ha also documented the neardaily act of harassment violence and discrimination muslim face in the u given the continuing rise of antimuslim rhetoric and hate crime occurring throughout the united state this type of reckless and harmful conduct should not be tolerated by our nation airline which are legally charged with safely carrying all individual who are rightfully present in an equal and nondiscriminatory manner without regard to their religious affiliation or ethnicity say sayeds letter a spokesperson for the department of transportation said the agency enforcement office had received sayeds letter and is looking into the matter the agency the spokesperson said investigates all discriminationrelated complaint that it receives at the conclusion of each investigation the enforcement office make determination of whether or not violation of the law occurred and will take further action a appropriate at that time asked if radwan wa considering filing lawsuit against american airline sayed say she and her client are currently considering all option including litigation',\n",
              "       ' on night in which many super bowl commercial trolled president donald trump it 10 haircare perhaps succeeded best in getting into his head or rather on it the company messed with his muchdiscussed hair in an eyecatching 30second spot while we see diverse montage of citizen rocking their own do the narrator say america were in for at least four year of awful hair so it up to you to do your part by making up for it with great hair it wa poking fun but more importantly it wa showing the diversity that make up america it 10 haircare founder and ceo carolyn aronson told the huffington post on monday were perfectly imperfect aronson said her company isnt political but wanted to introduce the world to her brand in lighthearted way it just really great way to remind people that they should remember to laugh did it 10 haircare succeed comment below',\n",
              "       ' when asked for one idea that would change the world tom perkins top supporter of republican presidential candidate carly fiorina once suggested that rich people should get more vote than poor people in election the tom perkins system is you dont get to vote unless you pay dollar of tax perkins now 83 told an audience at the commonwealth club in san francisco in 2014 but what really think is it should be like corporation you pay million dollar in tax you get million vote hows that fiorina former hewlettpackard ceo who currently the secondmost popular gop contender according to recent cnnorc poll hasnt yet put forth detailed tax plan but it doubtful shed want to stand by perkins wild idea which contradicts the most basic of democratic principle in recent interview with fox news fiorina said she would lower tax rate and close tax loophole if elected president income inequality ha been exacerbated by progressive policy she argued fiorina touted perkins backing in the gop debate last week referring to him simply a hedge funder and former hp board member though he played role in fiorinas 2005 firing perkins defended the candidate controversial record at hp last month in fullpage advertisement that ran in the new york time calling her terrific ceo carly for america super pac supporting fiorinas presidential campaign paid for the ad perkins ha contributed 25000 to the group according to federal record perkins once donated 2300 to hillary clinton 2008 campaign note opensecretsorg but since 2009 he gone allin for the gop giving more than 87000 to republican candidate including 2500 to mitt romney other fiorina donor from the business community include charles munger berkshire hathaway vice chairman and billionaire warren buffetts righthand man and michael johnson the ceo of the controversial marketing firm herbalife before perkins suggested that poor people shouldnt have the same voting right a rich people hed come under fire for comparing the persecution of the wealthiest american to the persecution of jewish people in nazi germany writing from the epicenter of progressive thought san francisco would call attention to the parallel of fascist nazi germany to it war on it one percent namely it jew to the progressive war on the american one percent namely the rich he wrote in january 2014 letter to the wall street journal describing rising tide of hatred against the wealthy in his home city player in the tech and venture capital industry where perkins made his money were quick to distance themselves from the nazi remark venture capitalist and netscape cofounder marc andreessen famous for his role in the tech boom of the late 90 even resorted to namecalling reached via twitter on monday andreesens opinion doesnt seem to have changed much and kleiner perkins caufield byers the venture capital fund perkins helped found also criticized him perkins ultimately apologized not for the sentiment of the letter but for using the term kristallnacht so far the tech industry ha overwhelmingly thrown it support behind sen marco rubio rfla in the 2016 presidential race according to an analysis from recode a representative from fiorinas campaign did not respond to the huffington post call or email',\n",
              "       ' the socalled altright ha lost one of it prominent online gathering space after reddit banned subreddit dedicated to the group which is characterized by white nationalist antisemitic and misogynist viewpoint the raltright community wa well known on reddit and around the web for the derogatory nature of it conversation if you visit what used to be the raltright community page the message that fill the screen say this subreddit wa banned due to violation of our content policy specifically the proliferation of personal and confidential information we reached out to reddit for more detail their statement note fellow redditors have been trying to figure out what exactly happened rumor in other reddit community are suggesting that participant in raltright were posting link on site called wesearchr marketplace for information that allows user to give money toward bounty they define bounty a request for the publication of specific information that is of journalistic value currently there are bounty set up for finding the person who punched white nationalist richard spencer right after president donald trump inauguration which essentially facilitates doxxing and another that want to sue twitter a stated in their statement to the huffington post reddit ha rule against revealing anyones private personal information and sharing on wesearchr would violate those term gizmodo spoke to former moderator on raltright who posited that reddit typically doesnt allow these type of rightwing group to get much bigger than 20000 subscriber but considering other community with similar belief system have well over that number that may not explain in it entirety why reddit shut it down the ban of this community come just after reddit founder alexis ohanian published letter on the site that included the story of his family immigrant background and his thought on trump executive order on muslim and refugee president trump recent executive order is not only potentially unconstitutional but deeply unamerican ohanian wrote we are nation of immigrant after all in the tech world we often talk about startup unfair advantage that allows it to beat competitor he continued welcoming immigrant and refugee ha been our country unfair advantage and coming from an immigrant family ha been mine a an entrepreneur it not the first time reddit ha taken stand against what it user are doing in their respective community in november reddit ceo steve huffman wa embroiled in controversy when he modified post from trump supporter to spite them for the vitriol they were spewing at him on rthe_donald community rthe_donald which helped propogate the nowinfamous pizzagate conspiracy theory is still up and running though user are fearful that they too will be shut down in 2015 reddit banned community dedicated to hating overweight people called rfatpeoplehate and another called rrapingwomen former user of the raltright group have taken to the redditalternative site voat to discus the ban redditors though are saying voat is where subreddits go to die in any case rip raltright most of u wont miss you',\n",
              "       ' three billboard outside cleveland ohio isnt sequel to the oscarnominated film three billboard outside ebbing missouri but sponsor of new advertising campaign are still hoping for big award the recently erected sign entreat cleveland cavalier superstar lebron james to join the philadelphia 76ers after this season one of the billboard along cleveland interstate 480 read phillywantslebron another say complete the process which the associated press note is reference to the 76ers trust the process mantra the coceo of the chester pennsylvania home remodeling company that leased the billboard suggested the advertising wa nobrainer james returned to the cavalier after winning two nba title in miami and led cleveland to it first championship ever in 2016 he is eligible to sign with other team a free agent after this season lebron is in the conversation of being the best player of all time asher raphael of power home remodeling told espn we think if he come to philly he get couple more championship raphael did not disclose the amount the company paid for the message but it probably pittance compared with the king ransom that james would command if he seek employment elsewhere',\n",
              "       ' there database of 191 million voter record online and no one know where it came from or who owns it that revelation come from security researcher chris vickery who found the data on dec 20 and shared his discovery with an anonymous privacy advocate at databreachesnet and cso onlines steve ragan who confirmed that the record of american voter including himself are indeed available for free online the data in question includes the full of name of given voter his or her home address phone number gender date of birth state voter id unique voter id date of voter registration political affiliation and whether or not he or she voted in primary election beginning in 2000 stewart brand the founder of the whole earth catalog famously said that information want to be free but when it come to the sacred act of voting in democracy should that information be freely and easily accessible online our society ha never had to confront the idea of all these record all in one place being available to anyone in the entire world for any purpose instantly wrote vickery on reddit on monday thats hard pill to swallow while state voter registration record are public record it isnt always easy or cheap to access them across the united state using voter data is also tricky depending on the state the data may not be used for commercial or charitable purpose or it may only be used for political or electoral purpose or it may have no restriction at all both ragan and databreachesnet suggested that the data originated with campaign software vendor nationbuilder which provides it user with access to national voter file nationbuilder founder and ceo jim gilliam however told the huffington post that while some of the data probably came through his firm the schema or how it structured is not theirs in post published to the nationbuilder blog gilliam indicated that from what his team ha seen there is no new or private information released in this database beyond what is already available from each state government in the meantime this episode can tell u three thing first data is strategic asset in 21st century campaign when the democratic national committee cut off the bernie sander campaign access to national voter file after staffer looked at confidential information the move posed huge risk to the campaign ability to do voter identification and fundraising while the dnc ultimately restored the sander campaign access the episode showed how much that data matter in addition the way the obama campaign used data to rally voter is of great interest to every presidential candidate this election season second this episode will call attention to the ethic of public data access from inequity of access between campaign to whether this category of public record should be available online at all we strongly believe in making voter information more accessible to political campaign and advocacy group so we provide cleaned version of that publicly accessible information to them for free said gilliam generally speaking american are comfortable with open data about safety and restaurant but not their mortgage it may come a surprise to many citizen to know that state government are publishing their voting history finally consumer data privacy deserves more scrutiny while some state do regulate use there are limited formal protection for voting data a category of personal information or statutory consequence for campaign or organization that inadvertently expose it in theory the federal election commission might weigh in but despite having figured out how to disclose data online the dysfunctional regulator remains at war with itself unlikely to curb abuse of election law in 2016 in practice it up to congress and the court to decide if threat to voter privacy merit national limit on data use',\n",
              "       ' if you google woman in tech it likely that the same 510 woman will pop up in your search result these hypervisible woman sheryl sandberg marissa mayer susan wojcicki to name few have become the poster girl of woman leader in silicon valley theyre great at what they do and they certainly act a role model for woman interested in breaking into tech while creating group of superstar serf it purpose fear that seeing the same face repeatedly give the impression that theyre the only woman succeeding in silicon valley when in reality exceptional woman leader are not a hard to find a one might think a ceo of watermark im constantly surrounded by powerful razorsharp woman who support one another a well a the woman within their organization by encouraging them to advance take advantage of opportunity and make the right career choice in highlighting the woman below seek to widen the pool of female hero in tech they might not have huge pr machine behind them but these woman have truly made their mark on the professional landscape in silicon valley theyre role model in term of what theyve achieved for their business themselves and in term of their support for other woman each of these woman ha unique approach to championing woman in their industry but they all share something in common the ability to contribute and foster positive inclusive culture in the company they work for kimberly decarlis vice president of corporate marketing citrix system the citrix culture is one based on inclusion and opportunity for everyone woman and men across diverse background are what make citrix unique and special in fact in speaking with many of the woman here it is no surprise that they want to stand on their merit not their high heel woman at all level want to be recognized not because they are woman but because they are really great at what they do whether thats marketing product design engineering finance or hr at the end of the day we all want opportunity it so motivating and inspiring to see that reward recognition and advancement are based on merit and on driving great outcome for citrix one of the key way to support this culture is embrace it every day for example the recognition program on my team are based on merit we share publicly what people have done to support the company goal and we focus on outcome it also important to lead by example my leadership team and socialize idea with stakeholder across the company and share this approach with the broader team this includes asking for help ranging from getting new project moving to dealing with constraint to solving problem and when leadership show they dont always have the answer and need help it make it acceptable for others to do the same when we hire we look to find the best person for the job and a result have built team that ha incredible diversity along number of spectrum gender ethnicity lifestyle age our culture thrives because there is opportunity for everyone judith sim chief marketing officer oracle a major part of our company culture here at oracle is allowing employee to drive and take responsibility for initiative that matter to them the oracle woman leadership owl group actually started a grassroots organization employee developed it a an organization they could leverage and it been astounding to watch it develop into global corporate program in such short amount of time being active in group like owl set positive example for everyone in the organization to work toward diversity and overall accountability participating in those conversation and being visible are very important when youre leading when there an owl program coming up send personal email note to teammate and peer letting them know about the program and that ill be there encouraging others to join in make it easier for them to participate and it doe lot to boost confidence level often half the room is from my own organization because ive sent those invitation out get so much satisfaction out of seeing them speaking out and participating getting chance to be visible in that dialogue the first thing see is their confidence grow and over time hope this set an example for other organization sometimes it seems difficult to maintain this behavior because let face it were all super busy however it so important to keep building that pay it forward culture continuously see the leadership at oracle do it which make it easier for me to do to maintain my hope is that in turn it becomes easier for other manager a well maya strelarmigotti vice president of ip and broadband development ericsson one of the key principle of our culture at ericsson is diversity to u diversity mean male and female people of all nationality background and belief it critical for u to strengthen that and im pleased to see that more and more company in silicon valley are starting to pay attention and take step toward better balance research show that more diverse team lead to better governance and higher return on investment which is exactly what we want here at ericsson i couldnt be more excited to observe that since arrived here about two and half year ago the leadership at ericsson in silicon valley ha increased greatly we now have six female vice president not to mention several directorlevel woman leader for long time ive been an active mentor for talented directorlevel woman within ericsson who want to move further up it important to take handson approach giving upcoming woman the tool and advice necessary to get them to the next level at ericsson weve begun program called woman in leadership to help member achieve their career goal through networking best practice career development and balancing their work and personal life often woman executive have such busy schedule sometimes helping others go to the bottom of the priority list you have to keep in mind that by helping develop woman leader in your company youre making it stronger more woman at the top and more diversity overall is goal we should constantly reach for especially in our industry company culture is key each of these woman are supported by the company they work for and it important to keep in mind that they dont take that support for granted they work hard to shape it contribute to it and lead by example maya kim and judy are true champion of talent diversity and merit they would bring these quality to the table at any organization who are the role model in your company what do they do to champion other woman leader in tech how do they support and contribute to positive company culture',\n",
              "       ' by tim henderson some longdeclining small town and farming and manufacturing county are adding people a population growth in large city cool according to stateline analysis of census estimate released thursday this seems to be the beginning of return to population dispersal after decade or so of clustering into city and the biggest metropolitan area said william frey demographer at the brookings institution steady improvement in the economy and recovering housing market may be prompting employer and job seeker to look again at area that were growing before the great recession suburb exurbs and small town frey said rural area defined by the u department of agriculture a county outside city and their suburb gained population between 2016 and 2017 for the first time since 2010 they grew by about 33000 resident nationwide after losing more than 15000 resident the year before one of those growing area is jackson county georgia rural county that is convenient to atlanta and athens where farmequipment manufacturing and distribution center job have helped fuel population increase of more than 2500 almost 4 percent after population loss a recently a 2012 in the year since the county population growth ha been on steady upward trend the county added 428 people in 2013 and 1603 people in 2016 leading up to this year larger boost there good bit of growth here thing are finally starting to heat up said jackson county commissioner tom crow who ha family farm where he raise catfish and evergreen tree foreclosure caused most of the population loss earlier in the decade crow said but now those home are occupied again and hundred of new home are being built every year heavily agricultural area also have started growing in the last two year after year of decline those area likely still have fewer job but may be attractive to people looking for lowcost area to retire or cut cost said doug farquhar program director for rural development at the national conference of state legislature population decline ha hit most rural area hard since 2010 state such a nebraska and kansa have tried tax incentive to attract mover many small town have had to cut back service or deliver them in combination with neighboring town a the number of taxpayer ha dwindled john cromartie usda geographer said he had expected the census number to show that rural population loss had slowed but he wa surprised at the increase cromartie ha documented the sixyear trend of population loss in rural area it the bigger rural county those with town of at least 10000 people which have turned the corner fastest those county a group grew by almost 40000 or about 01 percent while smaller county continued to lose population though at much lower rate than last year the smallest county a group lost about 6100 people down from annual loss of more than 50000 between 2012 and 2015 at the same time growth is beginning to moderate in the most urban county after leading the nation population growth for decade with annual growth of more than million growth in those county dropped back to about 900000 between 2015 and 2016 and to little more than 700000 for the period covered in today release of census data some urban county lost population between 2016 and 2017 cook county which includes chicago lost more than 20000 resident it largest loss since 2010 the county that include baltimore cleveland st louis pittsburgh milwaukee detroit and brooklyn also shed resident between 2016 and 2017 cook county where population ha dropped for three straight year is actually undergoing boom in apartment construction up 61 percent between 2015 and 2017 said ed zotti an urban planning consultant at the chicago central area committee coalition of business and nonprofit downtown chicago housing ha been experiencing an extended boom driven by rising downtown employment zotti said but the city black population is in longterm decline he said which is likely to offset gain in population alameda county home of oakland berkeley and other community across the bay from san francisco had the nation biggest increase last year in multifamily housing according to census building permit data the booming regional economy in the bay area is driving more demand for housing in oakland and other alameda county city said darin ranelletti oakland deputy director for planning and building according to the stateline analysis county such a alameda that are on the fringe of large metro area added about 825000 new resident between 2016 and 2017 stateline home page sign up for exclusive state policy reporting and research',\n",
              "       ' helping the environment pay back in apple case to the tune of million the tech company say it recovered more than ton of gold from recycled device last year 2204 pound according to apple environmental responsibility report it came from apple product that were either dropped off at store or mailed in by consumer each iphone for instance contains approximately 25 milligram of gold worth about 1 according to forbes report with gold selling for about 123750 an ounce apple got back approximately 436 million last year and reduced it need to mine more gold from the earth we work hard to keep electronic device out of landfill so that the precious resource they contain can be reused and we want to ensure that these device are recycled properly so they dont pose threat to human health or the environment the report state though pricey finite and harmful to extract the precious metal is electrically conductive and malleable and ha high resistance to corrosion this make it an excellent substance for electronic device the gold salvage wa just small part of apple overall conservation effort in all the company said it collected nearly 90 million pound of electronic waste from it recycling program 61 million pound of which were reusable material the majority at 23 million pound wa steel plastic came in second at 13 million pound followed by glass 12 million pound aluminum 45 million pound copper 3 million pound and silver 6600 pound in addition to conserving resource apple say it ha reduced it facility carbon footprint by 64 percent over last five year that equal reduction of more than 1 million ton of carbon emission last year apple created 384 million metric ton 423 million u ton of greenhouse gas emission 77 percent of which wa from manufacturing it said the company acknowledged it ha room to improve were working hard to reach 100 percent renewable energy for all of our facility worldwide and help our supplier in china and everywhere around the world make the same transition to clean energy a we have the report state',\n",
              "       ' a squadron of 1218 drone shapeshifted into snowboarder and then the olympic ring friday during the winter olympics televised presentation of the opening ceremony in pyeongchang south korea and it wa a dazzling a it sound check out this largescale gizmo marvel according to wired the ledlighted footlong quadcopters were guided into their intricate formation by intels shooting star platform an intel spokeswoman confirmed to huffpost that the maneuver over pyeongchang were prerecorded live performance wa scrapped because there were too many spectator standing in the area where the live drone show wa supposed to take place the pyeongchang organizing committee said in statement the spectacular sight broke the guinness world record for number of drone flown at the same time the spokeswoman said',\n",
              "       ' if an ordinary person committed any of the abuse listed in the consumer financial protection bureau latest complaint against well fargo other ordinary people might call it theft or car theft ala well fargo is only considered an ordinary person when it spends money on election the rest of the time it is toobigtofail bank and improperly relieving it customer of their automobile is just one of few unfair act and practice to which it neither admitted nor denied when it agreed to settle federal investigation on friday but the bank will pay very high price for these alleged misdeed 1 billion the highest the cfpb ha ever imposed against financial institution the cfpbs description of well fargo behavior is breathtaking the company forcibly placed duplicative or unnecessary insurance on hundred of thousand of vehicle owned by customer who had taken out car loan with the bank this not only resulted in typical charge of over 1000 to which these customer had never agreed but for at least 27000 customer the bureau wrote the additional cost of the forceplaced insurance could have contributed to default that resulted in the repossession of their vehicle in better world the federal reserve would prevent serial offender bank like well fargo from existing and the department of justice would prosecute mass car theft a crime but it is at least good that federal regulator exists to levy fine against these outrage and give restitution to wronged family the cfpb ha only been around few year but prior to the well fargo settlement it had returned about 12 billion in illgotten gain to american consumer figure that is considerably higher after it biggestever settlement the bureau is creation of the democratic party signed into law by president barack obama and designed by sen elizabeth warren dmass yet some congressional democrat are joining republican supporting legislation that consumer advocate say would strip the cfpb of the power to bring case like the one it just settled with well fargo the bill authored by one of the bureau most ferocious critic rep sean duffy rwis ha the backing of selfstyled progressive such a rep gwen moore dwis and sen tammy baldwin dwis along with six more conservative house democrat and sen joe manchin dwva the legislation would deny the cfpb jurisdiction over company that are subject to state insurance regulation that also engage in offering or providing consumer financial product or service for such firm which include essentially every major bank the bureau would lose it authority to the extent such company is engaged in the business of insurance state insurance regulator which have much weaker record of consumer protection enforcement would replace the cfpb in january the progressive advocacy group american for financial reform sent sharply worded letter to member of congress warning that the bill strike major blow against cfpb regulatory authority over large financial service firm that would have called into question the cfpbs ability to investigate and punish the well fargo scheme to sell unnecessary insurance to it auto credit customer a month earlier 20 organization including the national fair housing alliance the national consumer law center and the consumer federation of america cited the well fargo case a they brought their concern to duffy not only do state regulator have weak record of enforcement many state simply do not have effective consumer protection law on the book in the week before the disclosure that well fargo had falsely placed 800000 lenderplaced auto policy state insurance regulator claimed there were purportedly no problem in that market the group wrote manchin and moore have long history of supporting bankfriendly legislation at the expense of american family and both declined to comment for this article baldwin spokesperson insisted that the bill doesnt actually do anything this legislation doe not strip or change the agency authority to enforce compliance when an insurer offer cfpbcovered product baldwin staffer said the bill simply clarifies that the cfpbs role is to enforce consumer protection law and also reaffirms existing law on statebased regulation of insurance by state insurance office and commissioner cfpb retains the oversight authority being used in it enforcement action against well fargo which senator baldwin ha strongly supported robert hunter director of insurance at the consumer federation of america doesnt agree he describes the language a very expansive with the potential to undermine enforcement against vast array of abuse perpetrated by financial conglomerate birnie birnbaum executive director of the center for economic justice called the bill outrageous with the exception of few state the record of state regulator on this is terrible birnbaum told huffpost well fargo forceplaced some 800000 policy erroneously no insurance regulator caught that the language of the bill is broad and vague leaving tremendous amount of activity susceptible to court challenge if the cfpb were to act against insurance provider and it includes provision stating that when in doubt the enforcement of this title shall be broadly construed in favor of the authority of state insurance regulator over the cfpb the bill passed the house financial service committee in january by vote of 37 to 18 with seven democrat voting in favor david scott ga emanuel cleaver mo gwen moore wi ed perlmutter colo kyrsten sinema ariz joyce beatty ohio and josh gottheimer nj it ha yet to receive floor vote in either chamber clarification one reference in this story ha been amended to accurately indicate the total number of democrat who backed the bill in question',\n",
              "       ' by scott malone rio de janeiro aug 21 reuters ethiopia feyisa lilesa held his arm over his head wrist crossed a he finished second at the olympic marathon on sunday in gesture of support for member of his oromo tribe who have been protesting at government plan to reallocate farmland plan to allocate land surrounding the capital for development prompted fierce demonstration in november and spread for month in the country worst unrest in more than decade ethiopia ha long been one of the world poorest nation but ha industrialized rapidly in the past decade however reallocating land is thorny issue for ethiopian many of whom are subsistence farmer authority scrapped the scheme in january but protest flared again this month over the continued detention of opposition demonstrator right group say hundred have been killed the government dispute the figure and say illegal protest by antipeace force have been brought under control oromo is my tribe oromo people now protest what is right for peace for place lilesa explained after his silvermedal performance adding that he feared he would face consequence for the gesture when he returned home maybe move to another country you get the freedom if you support only the government you cannot work without that any sign of unrest is closely watched in ethiopia western ally against islamist militant in neighboring somalia and an economic power seen a center of relative stability in fragile region oromo people now protest what is right for peace for place lilesa said reporting by scott malone editing by alison williams',\n",
              "       ' a facebook sends it promised update this week telling user whether or not they were one of the 87 million whose personal data may have been scraped by cambridge analytica to create and position online political advertising jody podolsky wont even need to look she is certain none of her information wa sold because shes sure there wa no information of hers out there to sell of the two kind of people in the world those who embrace social medium and those who shun it she is of the group that ha never really used platform like facebook twitter instagram and snapchat of the estimated 280 million american over the age of 13 213 million are on facebook leaving the rest to call their friend one at time when they get new puppy or send postcard from vacation rather than posting photo and now a facebook founder mark zuckerberg testifies before congress for two day about the datamining operation and the house permanent select committee investigates whether cambridge analytica wa working with the kremlin shunners like podolsky are feeling vindicated i wouldnt say im feeling smug it more complicated than that say podolsky an author film producer and small business owner in los angeles facebook traded on our identity our privacy with impunity for their own gain that wa their business model to sell our very self to advertiser know that is genius it even awesome it also terrifying that it is awesome the reason nonusers give for nonusing are varied and nuanced for podolsky it about the misappropriation of the concept of friendship think initially what caught my aversion wa facebooks cooption of the word friend she say found it incrementally arrogant and intrusive to decide they could diminish the obligation and commitment of actual friendship thats where my personal antipathy started for rachel bamberger it wa about the substitution of virtual experience for real one try to find pleasure in real face time with my friend or reading book or listening to music say the high school senior dont read book online because love the smell of real book and the feel of actually turning the page in my hand you lose all the sensory part when you spend all that time staring at screen for others the core reason wa the fear of loss of privacy im even hesitant to talk to you said one office administrator in florida who nothing if not consistent declined to be quoted by name definitely wouldnt want you to identify me in an article she recall passing an oldfashioned phone booth a part of display and having to explain it purpose to her young child they asked whats it for and had to say thered be phone in there and you would close the door so you can talk she recall it used to be that phone call were presumed to be private now it blah blah blah hysterectomy blah blah blah my yeast infection blah blah blah shes tried what she insists is the facebook fad few year ago when group shed joined that met up for agility training for dog began using the site for scheduling joined for my dog and within half an hour of getting onto facebook client who had sexually harassed me wanted to friend me and right after him got request from woman who had worked with who knew to be mentally ill just felt so exposed just closed my account and a result stopped attending agility training session i did lose out on that social interaction she say because didnt want this other element michael gerstein in turn say he ha stayed off social medium because he long feared something much like the cambridge analytica news of the past few week it the wild west he say where people are grabbing all sort of information about you and you dont know what they know or how they use it he work in corporate finance in manhattan responsible for budgeting and forecasting and wa originally put off by the fact that facebook ha to be doing something like this because they have to make money but didnt understand exactly what that something is and im not comfortable with thing dont understand he ha never used twitter or snapchat he say he doe have facebook account but have never posted have replied to post but couldnt even tell you how to post the reason he even opened the account in the first place he say is because my wife wanted her profile to say she is married and it wont say that unless your spouse also ha an account his wife wa mistaken still the account exists and he ha 62 facebook friend any one of those might have answered the 2014 cambridge analytica survey that the company then used to access the information of everyone in that user friend list which mean he may in fact have been part of the data sweep even being careful doesnt protect you from being vulnerable he say ellen fader manhattan psychotherapist belief she ha been similarly victimized despite being careful she joined linkedin in the the early day of the site and apparently clicked the wrong thing by mistake a result it sent blast email to my entire contact list including everyones name and email listed publicly these were client in my therapy practice and now everyone on the list could see everyone else could have lost my license professionally that wa my worst fear about technology and it came true all that is why she only used her fitness tracker for very short while she say all she wanted to do wa count her daily step but you have to sign all these agreement in order to participate with them she say it started her thinking someone out there is going to know my heart rate my sleeping pattern how many step take do want all that data out there who know what they are doing with your information no she say she doesnt think anyone actually care how much she walk but she didnt think that anyone cared to sell facebook friend list to the russian either fader who just turned 65 and who wa filling out medicare form online when reached by phone at her manhattan apartment emphasizes that it is not because of her age that she is resistant to new technology there the idea out there that older people dont know how to use this and thats why they stay away she say but in fact she ha website for her business and spends much of her day on the computer it is not that she is incapable of understanding the new way she say but because she understands them too completely in my mind a psychotherapist the most important thing in this world is human connection she say and social medium doe foster version of that but it version that ha u relating to device rather than set of eye thats gazing at you if we fast forward what are people going to be like 100 year from now will they remember how to relate in real life at all think the implication and the ramification are enormous sherry hamby psychology professor at the university of the south who study victimization of vulnerable community in appalachia agrees that age is probably not the primary factor for those who shun social medium including some of the rural population she study in her experience few of the presumed reason actually hold true for instance while it is assumed that individual who live in appalachia do not own the latest in technology because they cant afford it her research ha found that the deeper reason is lot of skepticism about technology and lot of consideration of the way it change life her research paper titled technology in rural appalachia cultural strategy of resistance and navigation wa one of dozen about privacy at the margin included in special issue of the international journal of communication this month each of the paper wa about discrete population from aboriginal community in australia to disadvantaged urban community in india to college sophomore at big university in urban area and each concludes that the decision about technology use are driven by how user feel about the effect of particular technology on their private offline life hambys research wa conducted before the 2016 election so she doe not know how her subject feel about their choice to limit their social medium use in light of the cambridge analytica controversy she say she hope to go back and find out podolsky for one insists she doe not take any pleasure in her prescience do feel smart no she say mark zuckerberg is smart he genius he created this interpersonal interplanetary connection and that is an outstanding accomplishment mine wasnt prophecy it wa just me trying a human being to resist the force of the marketplace on my identity she may have succeeded in that she wont be getting message from facebook this week telling her whether she wa in fact victim of the latest of those force but she acknowledges she pay price for opting out of medium that reach third of the world podolsky who is currently writing book say that the first question publisher ask is whats your social medium presence how many click do you get read more from yahoo news this post wa originally published on yahoo news',\n",
              "       ' a sportswriter for the new york post claim that he wa fired on friday because of an antitrump tweet bart hubbuch columnist and nfl reporter for the paper posted new tweet on monday with his explanation for his sudden termination last friday wa fired by the new york post for tweeting on my own time seven day earlier my personal belief that donald trump becoming president of the united state is national tragedy the tweet that led to his dismissal appeared on the day of trump inauguration it compared that event with two of the worst day in american history the attack on pearl harbor and the world trade center hubbuch ha since deleted the tweet but screengrab appears below hubbuch later sent out an apology tweet also since deleted calling the comparison of trump inauguration to 911 insensitive and wrong he added shouldnt have done it according to phillycom contacted by the huffington post hubbuch declined to comment further unfortunately cant say anything more than my pinned tweet at this time the new york post confirmed that hubbuch wa no longer employed there in statement to profootballtalkcom the statement suggested that the sportswriter tweet wa not the sole reason for the paper decision we expect our reporter to interact with the public including on social medium in professional manner the post said in statement sent to pft unfortunately mr hubbuch ha engaged in pattern of unprofessional conduct and exhibited serious lack of judgment including most recently showing disrespect for the victim of pearl harbor and 911 back in september hubbuch temporarily deleted his twitter account due to backlash over another post according to awfulannoucingcom the earlier tweet said totally notshocking fact the patriot have never had black qb start game in their 57year history jacoby brissett would be the first the new york post is owned by news corporation the same company that owns fox news founder rupert murdoch reportedly ha close tie to trump',\n",
              "       ' by anjuli davy london reuters mike lynch mathematics whiz and former bos of autonomy said he cant see how accusation leveled by hewlettpackard co of dodgy accounting add up to 5 billion writedown on the software business he sold them last year hp said on tuesday it would write 88 billion off it 111 billion purchase of the british company 5 billion of it due to serious accounting impropriety and willful effort by autonomy to mislead shareholder revealed by whistleblower and forensic audit by accountant pricewaterhousecoopers it ha alerted regulator on both side of the atlantic mike lynch say he ha yet to hire lawyer and ha not spoken to either hp or any investigator but he ha sat down with past account of the firm he founded in an attempt to answer the accusation laid out in hp public statement hp general counsel john schultz claimed autonomy created more than 200 million in revenue over twoyear period from 2009 which would amount to 125 percent of autonomy 16 billion in revenue in their annual account for 2009 and 2010 while denying the allegation a utterly wrong lynch said there were three area where accounting rule gave scope for difference of interpretation accounting rule setter have been working on plan for decade for common global accounting rule so regulator and investor can compare company account but until that task is complete there are competing standard that can produce different result for company doing broadly the same thing the international accounting standard board iasb ha devised international financial reporting standard ifrs used in more than 100 country and the basis for autonomy account prior to hp acquisition but many u company such a hp use u generally accepted accounting principle gaap which can differ from ifrs notably in respect of software revenue recognition one of the accusation hp level against autonomy former management is that the company wa booking licensing revenue upfront before deal closed thereby inflating revenue revenue recognition for software vendor can be complicated to say the least accountant grant thornton wrote in note this is because software company often bundle product and service such a license installation training and maintenance support into single contract under accounting rule company can establish model for pricing different part of the contract so that some revenue can be taken up front and the rest over the period of the contract under ifrs this is governed by rule ia 18 under u gaap there are more stringent condition to satisfy requiring what is called vsoe or vendorspecific objective evidence it shouldnt be surprise this issue is coming up it show how looseygoosey ifrs is said lynn turner former chief accountant of the security and exchange commission who wa running the sec department that issued staff accounting bulletin 101 which set lot of the specific rule around revenue recognition lynch belief that hp might not have yet established it own vsoe model and therefore might not be recognizing revenue upfront which might result in restatement of autonomy revenue all of these deal went through autonomy auditor deloitte themselves said lynch deloitte apply the test independently of u and it is standard test and it is explicitly stated in the annual report and account autonomy would submit every single invoice to deloitte each quarter a part of the auditing process added lynch deloitte said it conducted it audit work in full compliance with regulation and professional standard and categorically denied any knowledge of impropriety or misrepresentation in autonomy financial statement hardware another allegation hp ha stated in public is that autonomy mischaracterized revenue from lowmargin hardware sale a software sale autonomy always represented itself a software firm but 10 percent to 15 percent of it revenue came from moneylosing sale of lowend hardware hp said lynch said it wa not secret that autonomy sell hardware in company report for 20092010 hardware sale accounted for around 8 percent of revenue occasionally if customer wanted desktop autonomy would provide package that might include desktop for example along with the software in term of moneylosing sale lynch acknowledged that in small number of case deal were struck at slight loss in exchange for the client agreeing to market autonomy product in those case the transaction would be charged a marketing expense not direct cost of sale but overall accounted for le than 2 percent of total revenue lynch said though this move the gross margin percent or two it doesnt affect profit he added resellers another allegation made by hp is that autonomy booked some licensing deal with partner a revenue even though no customer bought product autonomy generates most of it sale revenue through deal with over 400 client including ibm and wipro who resell the software to endusers under ifrs revenue can be recognized if sale are delivered in the current period there is no right of return policy collection is probable and the fee is fixed and determinable lynch said only deal that fulfilled these criterion were booked a revenue under u gaap if autonomy sale wa contingent on the resellers sale the latter must be completed before autonomy can claim it a revenue even so lynch said over 90 percent of resellers completed sale in some case he said it wa perfectly reasonable to sell to reseller with no end user a they might use the software themselves while these accounting difference could have an impact lynch belief it is hard to reach the dizzying figure that hp ha come up with there is nothing there that you can warrant such big effect in term of writedown he insisted reporting by anjuli davy additional reporting by nanette byrnes editing by will waterman',\n",
              "       ' wall street seemed unimpressed or at least unsurprised by the latest generation of apple product unveiled on wednesday despite moderate uptick in the company stock price throughout the event share closed nearly 2 percent lower than the previous day of course stock trader are finicky and the anticipation of product launch typically drive price higher than the actual reveal now if apple had surprised the world with cure for death or perhaps machine that creates matter that might have been different story instead the company unveiled two new iphones revamped apple tv and supersized ipad pro to be frank this dip in stock price matter little apple is still the most valuable company in the world also on huffpost',\n",
              "       ' byebye headphone jack apple on wednesday announced it ha ditched the headphone jack in the latest iphone model the iphone 7 move tech industry watcher had widely predicted the iphone update along with new apple watch and new app store game were among the big reveals at the company wednesday press event in san francisco the controversial move to eliminate the 35 mm headphone jack is aimed at speeding the adoption of highend bluetooth technology but could instead turn off many existing or potential apple customer iphone 7 phone will be connectible to either bluetooth headphone or wired headphone that fit apple proprietary lightning port the latter will come packaged with the new phone apple announced that lighting jack to traditional 35mm adapter would be included with every new iphone 7 the company also announced airpods wireless version of it popular white ear bud that connect via apple new w1 chip proprietary wireless technology rather than bluetooth during the wednesday announcement apple ceo tim cook described iphone 7 a the best iphone weve ever created in what ha become customary language for every new iphone iteration while explaining the wireless enhancement to the iphone 7 apple senior vice president phil schiller chalked up the elimination of the approximately 138yearold technology to courage consumer and tech reporter quickly noted that apple courage double a selling point for the company proprietary airpods which are priced at 159 pair and do not come standard with the new phone apple wa somewhat inadvertently scooped on it big design change just hour before announcing it shortly before the event started at 10 am pacific time an amazon landing page for iphone 7compatible accessory revealed some of the gadget specification the product listed indicated that the new phone would have dual camera and included only wireless headphone option for sale amazon quickly deactivated link to iphone 7 case which would have revealed more detail of the new design a iphones have become some of the most popular camera in the world apple devoted considerable amount of time to the new dual camera more powerful lens photo filter and software on the iphone 7 apple hasnt launched significant new product since the debut of the apple watch in 2015 and with high price tag and slow adoption it ha yet to become blockbuster item like the ipod or iphone the newest edition of the watch called apple watch series 2 feature waterproof design with builtin gps and improved fitness tracking and navigation capability mobile game which in december 2015 alone netted 1 billion for the company are likely to attract even more player apple announced new nintendo game super mario run which can be played onehanded pokemon go creator niantic announced an apple watchcompatible version of the game the major update from the apple event include correction this article previously said the iphone 7 ha surround sound speaker in fact it ha stereo speaker',\n",
              "       ' huffpost reached out to policy medium and tech expert and one congressman who questioned facebook ceo mark zuckerberg to get their reaction to zuckerbergs two day of congressional testimony rep john sarbanes dmd sarbanes asked zuckerberg to explain how facebook embeds it employee in political campaign and what kind of help the social medium giant provides to those campaign this is why he pursued those question it all go to the broader issue of facebooks ability because it is such an important commodity in the communication space to offer up benefit to client including political client including potentially sitting elected lawmaker who are the very one who are going to need to turn around step back look at arm length and decide whether there need to be some regulation of this entity so youre right back to the issue of whether special interest or powerful interest out there are in position to lean on the gear of the system in way that can get them special treatment when it come to public policy what he hope to find out im very interested to know how doe this work is an embedded facebook employee sitting next to the chief information officer or the digital tech supervisor of the campaign sitting right next to them a they run into problem getting ad approved according to the facebook requirement and so forth can the campaign person turn to that employee next to them and say can you help me out what do we do here and did that result in this real imbalance huge imbalance in the number of facebook ad placed for the trump campaign on the facebook platform compared with the clinton campaign that can obviously tie back to how much each campaign wa willing to purchase on the platform but the approval process for ad can take some turnaround time and if you have an embedded employee sitting there next to you you might be able to get that fasttracked we dont know but these are some of the question that need to be asked whether he thought zuckerbergs response wa adequate not really mean he didnt really have much time to do it because we were limited to four minute in part because facebook negotiated that with the committee so if wed have more time each of u to pose our question he would have had more time to answer them but obviously some of the thing wa asking for were not thing that could be provided in the moment but are thing were going to follow up on and try to get in the coming day and his concern about congress response im very concerned that once the kind of theater of the last two day is behind u and other event and certainly there other event these day kind of push the zuckerberg hearing and these latest breach at facebook off the front page that all of these assurance from zuckerberg about being willing to embrace appropriate regulation and thing of that nature will suddenly evaporate he wa quite careful a he endorsed the honest ad act or endorsed certain regulation in term of their privacy practice it always obviously we want to see the detail but in concept we agree with that well to me thats sort of code for future resistance filip struhárik editor at the slovakian news outlet denník at the end of 2017 facebook tested splitting user news feed in two post from family and friend v everything else in six country including slovakia the test wa disaster that radically disrupted entire news ecosystem in those country it also demonstrated the extreme power facebook ha over smaller nation that dont have a much history with free press and democratic election a the u struhárik helped bring attention to how facebooks experiment affected his organization he emailed his reaction to zuckerbergs testimony mark zuckerberg said lot during last week and we are monitoring his plan but it remains unclear what will be launched just in u and what will be ready globally too let look on one particular topic promised greater politicalads transparency it raise lot of question is it something we can expect in small country too this is an important question because we will have two election regional and presidential in slovakia during next 12 month will slovak advertiser need to confirm their identity and location if they want to run political ad we still dont know how will facebook find out what is political ad and what is not if the new rule will apply just to official political campaign the situation doe not improve because there are many other bad actor the new rule would have to apply for all who want to run any kind of political ad but even after all already ha been said we dont know important detail so we are waiting for specification matt stoller fellow at the open market institute stoller and the open market institute advocate for stronger antitrust enforcement against corporation including digital platform like facebook and google this is his reaction to zuckerbergs testimony i take two thing from these hearing first this wa the big bang of silicon valley politics with host of important issue coming to light that will be debated and worked through for year already the consequence are rolling through to take one example facebook rolled out new data targeting policy to advertiser a zuckerberg wa testifying to take another federal trade commission nominee rebecca kelly slaughter had nominating hearing at the very same time a zuckerbergs appearance before the house she will soon be one of five new nominee at the commission that regulates facebook she took multiple question from republican and democratic senator on the facebook data and monopoly problem which is signal that the senate expects action from the ftc second the problem with facebook is it market power the problem in nutshell is that it a if facebook owns the phone network but listens to what everyone say and manipulates them based on what it hears to serve facebooks interest facebook ha locked in two billion user into it essential communication service along with million of content producer it us this position to engage in surveillance and manipulation of the flow of information among these people and institution it then sell the ability to manipulate these people to advertiser and ha built host of tool to allow those advertiser to engage in discrimination on who see their ad fundamentally most of the harmful symptom that emerge from facebook from it rampant privacy violation to fomenting ethnic hatred and genocide to content discrimination are function of it misuse of it market power over an essential communication service there are number of way to make facebook safe for democracy but fundamentally we must break the company power by splitting off it various social network instagram whatsapp facebook ending it ability to discriminate and spy on it user and forcing competition into the market u representative kathy castor dfla summed up the two day of testimony best with her statement on the problem with facebook she said in the end american do not like to be manipulated laura moy deputy director at georgetown law center on privacy technology moy is an expert on technology issue ranging from digital privacy to government surveillance copyright and net neutrality she said this stood out to her in zuckerbergs testimony it inevitable that facebook will be harnessed for ill purpose such a to advance hate speech false news or deceptive political ad thats because the platform is designed to make it easy and cheap for anyone to target their message whatever it is to user who are likely to engage with that message in other word it an efficient tool for evil a well a for good and zuckerbergs answer on this issue just werent good enough when asked about hate speech on facebook time and time again mark zuckerberg responded that the platform is hoping to use artificial intelligence to automatically identify problematic content and flag it for removal but also repeatedly acknowledged that hateful language is nuanced and artificial intelligence isnt yet able to reliably do that so they have to hire human to review content in fact lot of expert believe that artificial intelligence will never be good enough to reliably identify problematic content what if thats the case how will facebook sufficiently prevent it platform from being captured by those who would use it to harm others these hearing didnt sufficiently answer that question alex howard deputy director of the sunlight foundation howard is former tech reporter including at huffpost who now help run the protransparency sunlight foundation the nonprofit is pushing the honest ad act which would require digital platform to provide greater transparency around political ad this is howard takeaway from zuckerbergs testimony first id note that while facebook ha endorsed our bill zuckerbergs claim that they are implementing it is questionable the definition of electioneering should be expanded to digital platform and level playing field for transparency and accountability should be mandated selfregulation is not enough facebook could have raised the bar on transparency many year ago instead of lobbying against legislation or regulation second the breadth of question posed showed the many different way that the rise power and influence of facebook implicates different aspect of american society but the short time that member of congress had to pose them and the lack of understanding that senator demonstrated did not deliver effective oversight nor with notable exception significantly improve public understanding lawmaker need to grasp the complex technology and policy issue presented by entity like facebook to effectively enact the change in law and institution that president jefferson once said must go hand in hand with the progress of the human mind a we pointed out the public ha now been reminded of how well many u senator understand facebook privacy and technology or not if we want better policy and strong oversight we need to make congress smarter restoring the office of technology assessment could help but it not sufficient abysmal trust in congress requires the institution to create better hearing process that ensures informed question and critically followup question are posed to industrial and postindustrial titan called to account for how theyre protecting consumer and democracy itself the apparent lack of coordination or followup between the senate and house hearing or to the question of other member failed the public finally the problem that exist with facebook existed before these hearing and will persist when they are done zuckerberg repeatedly said that he open to regulation but wa rarely held to account on exactly what that should mean or when deferring instead to follow up with staff or work with congress the devil is always in the detail unless congress take more time to understand and then to craft careful remedy the emerging challenge for open government that facebook is implicated in from automated activity to algorithmic transparency to public speech on private platform to data ethic and protection to antitrust concern to artificial intelligence will most likely be obscured by more sound and fury emanating from washington that ultimately signifies nothing',\n",
              "       ' tony tooke the chief of the u forest service ha resigned amid report of widespread sexual misconduct throughout the agency including recent allegation against tooke himself he announced his immediate retirement in an email to forest service employee on wednesday just day after pb newshour published sweeping investigation about the boy club culture within the service newshour spoke to 34 woman who work for the agency in 13 state many of whom detailed workplace hostile to female employee who were often retaliated against when they reported harassment some said they were raped and also faced retaliation when they reported the assault many of you have seen the news report which included the story from woman who told of their experience with sexual harassment in the forest service admire their courage tooke wrote in his departure email we are in moment at the forest service when we have tremendous opportunity to mold bright and successful future in delivering our mission to seize this moment however the right leadership must be in place to create an atmosphere in which employee can perform their very best work pb noted that during it reporting it uncovered claim that tooke had engaged in relationship with subordinate before his tenure a chief the agriculture department said last week it had hired an independent investigator to conduct thorough review of his behavior we take very seriously the responsibility to promote safe respectful and rewarding work environment for all employee babete anderson forest service press officer told pb at the time tooke 38year veteran of the forest service wa appointed chief by agriculture secretary sonny perdue last august in statement late wednesday perdue thanked the chief for his service but noted that in order to effectively lead any organization you must have the moral authority to inspire it member the forest service is filled with dedicated employee from across this nation who devote their life to promoting healthy and productive forest for the benefit of taxpayer and our environment perdue said chief tooke ha determined that it is best for the forest service it future and it employee that he step aside',\n",
              "       ' new york the founder and ceo of private equity company that owns leading maker of ar15s will attend fundraiser for donald trump in new york on tuesday evening stephen feinberg the cofounder and ceo of cerberus capital management will attend the event along with hedge fund manager john paulson debt investor wilbur ross real estate developer peter kalikow and trump fundraiser anthony scaramucci the new york time reported last week cerberus owns remington outdoor which make the bushmaster ar15 one of the weapon carried by the gunman who killed 20 child and six adult in the 2012 newtown connecticut school massacre cerberus said in 2012 it would sell remington outdoor in response to call from public pension fund for the private equity company to get out of the gun business however it wa unable to find buyer it announced in 2015 that it would allow investor to sell off their stake in the gun company while remaining in cerberus other investment ticket to tuesday fundraiser cost 50000 with the host paying 250000 huffpost wa unable to identify the host or confirm the location of the event cerberus and the trump campaign did not immediately respond to request for comment from huffpost the event come the day after the trump campaign paltry fundraising haul wa disclosed in filing with the federal election commission trump campaign began the month of june with just 13 million in cash on hand compared to rival hillary clinton 42 million in the bank in may trump raised 31 million while clinton brought in 262 million the time wrote that trump enters the general election campaign laboring under the worst financial and organizational disadvantage of any major party nominee in recent history and a the huffington post paul blumenthal detailed thing dont look much better for the campaign even after accounting for fund from the candidate respective party and friendly super pac the astonishing gap in funding ha produced massive disparity in both television advertising and staff on the ground blumenthal reported last august trump excoriated hedge fund for using the tax code to get away with murder assailing the carried interest tax loophole which is in fact regularly used by private equity executive and very rarely by hedge fund trump told cbss face the nation that theyre paying nothing and it ridiculous half of them look theyre energetic theyre very smart but lot of them it like theyre paper pusher trump said they make fortune they pay no tax it ridiculous ok but that rhetoric vanished a trump campaigned in the new york state primary with an eye to raising money for the general election he cant be in midtown manhattan launching attack on hedge fund and not expect that to have negative effect on him doug heye the former head of communication for the republican national committee told huffpost in april what former ted cruz spokesman rick tyler once described a trump crass political calculation is still on display a he approach the very people he said he would never be beholden to for money editor note donald trump regularly incites political violence and is serial liar rampant xenophobe racist misogynist and birther who ha repeatedly pledged to ban all muslim 16 billion member of an entire religion from entering the u',\n",
              "       ' most of life is just more of the same day in and day out we eat the same breakfast commute to the same job or school sit at the same desk head to the same lunch spot return home at roughly the same time and finally slip into the same bed ready to do the whole thing over again tomorrow but once every very so often something truly different happens there are moment brief moment when the possibility of the world seems ever so slightly larger and within that slight opening you can see that there is still room in this world for innovation and change yes there is darkness all around u and yes most of the time we are helpless to do anything but ignore it but holy crap what about this girl successfully getting single out of behindtheback bunt damn',\n",
              "       ' the new gray box from one of the world bestknown printer company doesnt look very exciting but it might fundamentally change how your office operates epson last week announced the paperlab prototype device which could bring little recycling factory to business around the world this machine can supposedly produce 14 sheet of paper per minute from old material epson even claim the paperlab doesnt need water to produce each clean page which would be huge departure from the way paper is currently made ordinarily it take about cup of water to make single a4 sheet of paper given that water is precious global resource epson felt dry process wa needed press release said epson concedes in it press release that the machine requires little bit of water to function but not for each page meanwhile water use remains major problem to be solved by the paper industry sustainability report published last year by the american forest paper association indicates that despite gain elsewhere increased energy efficiency reduced air emission water use actually increased between 2010 and 2012 the last date given in the document while paperlab handle recycling on small scale progress in that area is encouraging a for why your office might want paperlab the benefit are pretty obvious an office that us the device would be able to produce it own paper from old document cutting down cost instead of tree and potentially reducing co2 emission by avoiding the whole process of transporting paper to recycling plant that said it not yet clear how much energy the paperlab will use or whether it powered by traditional mean epson also point out that recycling old paper is pretty solid way to obliterate sensitive document no more contractor or shredder the company plan to introduce paperlab in japan next year epson told the huffington post that it hope to bring the device to the united state eventually but said it did not have firm date yet while the company also said that it doe not have price for the machine ar technica uk estimate paperlab might cost upwards of 75000 not exactly cheap but hardly backbreaking for the apple and procter gamble of the world ht ar technica',\n",
              "       ' rep hakeem jeffries dny brought down the house on tuesday with loving tribute to female hiphop and rap artist throughout the year artist such a elvis presley frank sinatra and bruce springsteen have been recognized on the floor of the house of representative jeffries said today rise to honor the top 10 female mc hiphop collaboration of all time jeffries top 10 includes eve my chick bad lauryn hill ready or not and of course lil kims quiet storm remix he also shouted out the legendary queen latifah mc lyte and saltnpepa a we celebrate woman history month here in the united state congress these dynamic woman are worthy to be praised jeffries said this isnt the first time the brooklynnative congressman ha honored rap artist on the house floor last year jeffries paid tribute to new york rapper the notorious big on the 20th anniversary of his death to read more of huffposts woman history month coverage head here or follow along with huffpost on facebook twitter and insta gram',\n",
              "       ' it seems only natural that in trying to ban statue promoting the sharing of one nude photo online kansa city area mother would use the internet to gather signature from stranger to do so thats exactly what joanne hughes of stilwell kan did after she saw sculpture in the overland park arboretum depicting headless barebreasted woman photographing herself shown below hughes who started her petition on changeorg wa visiting the park with her young child when they came across the statue they her kid were busy looking for snail on the ground hughes told the kansa city star in june we ushered them past but a mom of two girl especially dont want them to have to see something like that hughes belief that such statue shouldnt be shown in public place were not exactly sure how child would find the female breast of the statue called accept or reject offensive or even know that sexting the act of taking and sending nude pic usually via cellphone wa being shown likewise city official shrugged off the mother concern since they saw nothing inappropriate about having that in front of child fox 4 news in kansa city report that after teaming with the american family association hughes online petition ha garnered 4700 signature thats above the 3000name threshold to put the arboretum up on obscenity charge before grand jury after the petition were filed with the county this week official will have to listen the country ha the next two month to convene the grand jury the message this piece sends to the child and young adult in our community ha the potential to be destructive the petition read with all the problem we are having with sexting in our youth culture do we really want to be encouraging child and teenager to take nude photo of themselves for what it worth and this should be worth something the sculptor yu chang intended the exact opposite message the artist told u that the point of the piece is that the virtual world remove control over one image julie bilyea overland park art coordinator told kcur he is depicting woman who making the conscious choice to ignore her mind soul and identity even hughes acknowledged to the star that artist have been depicting the nude human form for century i have seen the statue of david in person hughes said of michelangelo statue in florence noting that the depicted david isnt taking picture of his penis what do you think of the controversy is hughes and the american family association going too far in calling the statue obscene or do you think they have point',\n",
              "       ' in the wake of the parkland school shooting that left 17 people dead bumble announced it will no longer allow member to post any photo of gun or other weapon the popular app which wa created a femalefirst dating service will search through all of it member profile and remove image with weapon the company plan to filter out any mention or discussion of gun in written content a well bumble ceo whitney wolfe herd told the new york time the new policy wont apply to people working in law enforcement or in the military herd said that some gun owner such a competitive sport shooter could appeal to the company to keep their gun photo on the site in blog post published on monday bumble wrote bumble wa founded with safety in mind from the start our mission ha been to build social network rooted in respect and kindness online behavior can both mirror and predict how people treat each other in the real world bumble ha responsibility to our user and larger goal to encourage accountability offline in the past when weve had an opportunity to make our platform safer weve taken action banning hate speech and inappropriate sexual content from the bumble app a mass shooting continue to devastate community across the country it time to state unequivocally that gun violence is not in line with our value nor do these weapon belong on bumble from today on we will begin the process of moderating all new and previously uploaded photo for the presence of gun our term and condition will be updated to reflect this decision bumble is also making 100000 donation to march for our life the organization founded by the brave young survivor of the parkland tragedy we stand with them and join them in working towards nonviolent future this excludes user in military or law enforcement in uniform',\n",
              "       ' and so the deflategate saga continues team of 11 legal expert filed yet another brief in support of tom brady on tuesday effectively arguing that nfl commissioner roger goodell made mockery of the legal system by serving a nonexpert and nonexperienced arbitrator who wa also inherently and utterly biased the 11 expert in question are u labor law and industrial relation professor from university around the nation including cornell berkeley harvard and ucla they joined an increasingly large and reputable group taking up arm on behalf of brady and the nflpa in the past month 21 scientist famed arbitrator kenneth feinberg and the aflcio have all objected to the u court of appeal for the 2nd circuit decision to side with goodell and reinstate the fourgame suspension that the commissioner slapped on brady in may 2015 the brief condemns goodell for dispensing his own brand of industrial justice phrase that the original judge on the case used a well it claim that in addition to the commissioner of the league being uniquely prejudiced and unable to decide matter in which he directly involved his ruling had no foundation whatsoever in the league collective bargaining agreement cba despite what the 2nd circuit had suggested thus rendering his disciplinary decision not only unfair but also unfounded in other word the fourgame suspension brady received had no basis and no backing at no time did the player association and the league come together and agree that man should sit out onefourth of season if he found to have let the air out of some football the fact that goodell invented this punishment and an appeal court support his ability to do so reek of an abuse of power and breach of the league agreement thats the issue these legal expert have taken with the 2nd circuit ruling ruling they claim could fundamentally undermine our arbitration system a it relates to labor law the panel decision run contrary to fundamental principle long settled by the supreme court the brief read if left uncorrected this decision may destroy the very process that the court wish to protect the peaceful resolution of labor dispute through nonarbitrary and fair proceeding moreover the group argues that such decision empowers arbitrator to ignore the party argument and cbaimposed limitation on their power the decision they say clash with the supposed objective of the entire legal process the root of arbitration is the assumption that both party will be working with neutral arbitrator they said anything else is fundamentally unfair before dotting the is and crossing the t of the brief the 11 signees skewered goodell for one last quirk in his decisionmaking rationalization process for likening the deflation of football to the taking of performanceenhancing drug the comparison between these two act doe seem arbitrary but seeing a the punishment for taking peds is outlined in the league cba those two violation are simply not analogous and then there wa this kicker there are other significant difference between taking drug and deflating ball taking performanceenhancing drug often involves criminal law violation which is not true of deflating football so the group writes the arbitration itself wa flawed and it arbitrator biased while this one case is no matter of life and death the consequence it could have on future labor law arbitration could imperil the life and livelihood of those le empowered than tom brady in other word the ramification of deflategate wouldnt be confined to gillette stadium this bizarre saga could affect many others seeking fair practice from their employer and that the brief concludes is why the court must rectify the 2nd circuit decision and rehear the case thereby refusing to let goodell dispense his own brand of industrial justice the full brief can be read below',\n",
              "       ' for some reason we allow ourselves to communicate on dating apps in way that would never cut it in the real world is it because were all just disembodied avatar creeping around the internet without consequence in their latest video college humor take the way we speak to each other on apps like tinder bumble and hinge and translates them into real world interaction warning this video may cause long look in the mirror',\n",
              "       ' the big winner at the cannes lion international festival of creativity content agency executive and thought leader from around the world gathered in the french riviera this week to celebrate the best in advertising and communication and to honor campaign that span television print radio social medium mobile and more celebrating it 60th anniversary this year the festival received 35765 entry from 92 country the big winner were campaign that set aside the hardsell and focused on bringing thoughtprovoking and entertaining content to their audience dumb way to die campaign for metro train in melbourne australia aimed at promoting rail safety wa the festival big winner with 5 total grand prix award new record it clever and insanely catchy song topped itunes chart in several country while the accompanying video depicting cartoon character dying in well dumb way ha already been seen by more than 50 million people fair warning you will not be able to get the tune out of your head it also featured mobile game book interactive poster and radio advertising the result just three month after the launch metro saw 21 reduction in accident and death compared to year ago and million people signed pledge on the website to be safe around train remember that dove real beauty viral video from few month ago it wa cannes titanium grand prix winner the video featured sketch artist who drew various woman based on their own description and then based on others description the vastly different result hit home with woman worldwide another big winner wa toshibaintels the beauty inside which took home the grand prix in the branded content and entertainment category the sixepisode social film featured main character who woke up a different person every morning topher grace played the lead alex but the campaign encouraged fan to submit their own video diary to play the character it also won an emmy recently at the daytime emmy award branded content and entertainment is new category added just last year and it highlight the importance that content in all form play in the modern advertising and marketing world last year inaugural winner wa chipotle emotional back to the start commercial which gained national prominence during the 2012 grammy award find out more about the festival in the latest episode of the content brief from freshwire below catch up on the video game console war with last week episode right here',\n",
              "       ' the frontman of eagle of death metal the u rock band that wa performing in paris theater in 2015 when it wa hit by terrorist attack ha publicly slammed the teen behind last weekend march for our life protest jesse hughes called the survivor of last month mass shooting at parkland florida high school vile abuser of the dead and claimed they were exploiting the death of their fellow student with their demonstration and medium appearance when the truth dont line up with your bullshit narrative just hold your breath and stamp your foot and refused to except it hughes wrote in series of typoriddled post on instagram although the post were eventually deleted they were preserved in number of place it might be funny if it wasnt so pathetic and disgusting he wrote eagle of death metal were performing at the bataclan theater in paris on nov 13 2015 when islamic state militant launched series of attack by the end of the night the militant had killed 130 people including 89 at the bataclan and wounded hundred more throughout the city referring to the attack hughes wrote a the survivor of mass shooting can tell you from firsthand experience that all of you protesting and taking day off from school insult the memory of those who were killed and abuse and insult me and every other lover of liberty by your every actionlong live rocknroll and may everyone sic of these disgusting vile abuser of the dead live a long a possible so they can have the maximum amount of time to endure their shameand be cursed hughes also posted an image of shooting survivor emma gonzález that wa doctored to look like she wa tearing up the constitution he called her the awful face of treason and survivor of nothing in the original animation gonzález ripped up guntarget poster typically seen at shooting range after hughes post were deleted no new statement appeared however the band official facebook page quickly filled with post from onetime fan who say theyre done with the group hughes is no stranger to controversy just month after the paris attack he denounced france tough gun control law did your french gun control stop single fucking person from dying at the bataclan and if anyone can answer yes id like to hear it because dont think so he said at the time in 2016 hughes suggested that some of the security guard at the theater were complicit in the attack because they hadnt come to work that day it seems rather obvious that they had reason not to show up he told fox business hughes later apologized for the accusation',\n",
              "       ' washington company that are notorious for mistreating u consumer could benefit from bipartisan senate bill that is supposed to protect those consumer legislation by sen mike crapo ridaho and supported by more than dozen democrat would give credit monitoring company like equifax chance to expand their role in the mortgage industry the bill would require governmentbacked mortgage company to solicit application for credit scoring model for evaluating the creditworthiness of people seeking home loan guess who is one of the biggest beneficiary of this change sen sherrod brown dohio the top democrat on the senate banking committee said thursday equifax of course the government housing finance apparatus ha long used the fair isaac corporation proprietary fico score when it considers the likelihood borrower will pay off her mortgage fair isaac main competition is something called vantagescore product jointly created by the three credit monitoring company equifax experian and transunion a spokesman for vantagescore called the bill positive development for underserved consumer and those who believe in competition vantagescore would probably have an edge in credit score competition since both fico score and vantagescore are based on the credit report produced by vantagescores parent company making the government housing finance enterprise consider an alternative credit score will benefit people with limited credit history sen tim scott rsc said in release which is similar to how vantagescore market itself scott coauthored the provision with sen mark warner dva warner spokeswoman noted the senator ha harshly criticized equifax in the past and lamented that the broader bank bill which he helped write doesnt do more to rein in credit monitoring firm a funny thing about this provision of the legislation is that the federal housing finance agency had already been in the process of considering an alternative to the fico score in december request for input the agency said it own research so far had revealed only marginal benefit to requiring different credit score than fico the report also said that regardless of which score wa used fannie mae and freddie mac own underwriting system more precisely predicted mortgage default than thirdparty credit score alone the senate bill which could pas a soon a monday would apparently blow up the agency own process for selecting which credit score to use however spokesman for scott said that the bill would set up process that would be more transparent than the one fhfa had been following brown said it would be great to have additional way of helping american become homeowner but determining creditworthiness and balancing access to credit with the need to make sure we dont end up with million of foreclosure is complicated he said that is why we have fhfa and that is why we have process in place in massive equifax security breach last year hacker stole personal financial information pertaining to more than 140 million american member of both party skewered the company during hearing that recalled 2009 congressional hearing when member of both party skewered the banker whod been bailed out after the financial crisis ostensibly the legislation punishes equifax a political counterbalance to the bill favorable provision for bank which will allow them to hold le capital and engage in riskier practice in the name of making more loan to u consumer provision in the crapo bill require the three credit monitoring firm to allow customer to freeze their credit information at no charge and to give free service for member of the military though brown noted thursday that the bill would also prevent military member from suing the company and it would probably be an excellent marketing opportunity for all three firm which are infamous for offering free product that require credit card up front and later charge fee unless theyre proactively canceled scott ha said the credit report competition provision would improve access to credit for africanamericans who are denied loan at higher rate than white people in similar circumstance another part of the crapo bill however would free bank from having to disclose some of the loan application data that ha made it possible to detect widespread racial discrimination in mortgage in the first place the credit competition part of the bill appears designed to benefit vantagescore said mike litt policy expert with the consumer advocacy group u pirg we think it probably an attempt to lay out better runway to aid them to really take over the credit reporting and credit scoring market litt said this article ha been updated to include comment from scott spokesman and warner spokeswoman',\n",
              "       ' despite the aspiration contained in donald trump campaign slogan make america great again the republican candidate is more likely than not to spew vitriol and petty insult on social medium sixty percent of trump mostused description are negative new analysis of his twitter account from vox show while he tweet great more than any other single adjective insulting word like dumb crooked crippled and yes lyin appear more often overall vox analysis looked at the 2000 most recent tweet from trump and his democratic opponent hillary clinton the medium outlet found that clinton is more likely than trump to use policyrelated word like equal and progressive in general 20 percent of her adjective were deemed negative it also appears that clinton is more likely than trump to shake her language up none of her mosttweeted adjective appeared more than 81 time in those 2000 tweet while trump tweeted great 329 time new 186 time and big 120 time trump is also more selfpromotional on the platform with his mosttweeted phrase including self funding my campaign will beat hillary and am signing copy of my book crippled america in contrast clinton tweet phrase like we need to we have to and find your polling place of course further evidence that trump campaign is selfpromotional hate machine is unlikely to change anyones mind come election season recent report from the new york time and the atlantic suggest that his supporter might love him precisely because he not politically correct editor note donald trump regularly incites political violence and is serial liar rampant xenophobe racist misogynist and birther who ha repeatedly pledged to ban all muslim 16 billion member of an entire religion from entering the u',\n",
              "       ' while they might not have white sugar flour or literally anything else in typical kitchen to console them like u commonfolk rest assured that tom brady and gisele bündchen are doing fine after his super bowl defeat earlier this month a week after that thing that justin timberlake underwhelmed at the couple have apparently since touched down in costa rica where they were photographed kissing in front of sunset the football star even made light of his 4133 loss in the caption writing this sunday outcome is lot better than last sunday he addded the hashtag losingstreakstopsatone and couple emojis for good measure the longtime new england patriot quarterback wa visibly upset after the big game following his team loss to the philadelphia eagle last week former supermodel bündchen who share child vivian and benjamin with the football star posted photo of herself pulling him in for an emotional postsuper bowl hug she congratulated the opposing team on their win before turning her attention to brady we are incredibly proud of you because we are able to see every day all the commitment sacrifice and hard work that you have devoted to become the best in what you do she wrote of her husband alongside the family photo day after the game brady reflected on his super bowl journey he won five previous game and posted photo of himself and teammate rob gronkowski in lengthy instagram caption the 40yearold athlete expressed gratitude to various people including the eagle player whom he thanked for bringing out the best in u and being gracious winner it ha taken me few day to reflect on our sb loss a well a the great season our team had brady wrote there are many emotion when you come up short of your goal and they are all part of learning and growing in this journey of life learning turn everything into positive and the number one feeling have had the past 4 day is gratitude he went on to thank his teammate coach fan and his family and friend who love and support my dream so dont cry for tom and gisele because the truth is they dont deserve your sympathy',\n",
              "       ' los angeles reuters volvos north american ceo lex kerssemakers lost his cool a the automaker semiautonomous prototype sporadically refused to drive itself during press event at the los angeles auto show it cant find the lane marking kerssemakers griped to mayor eric garcetti who wa at the wheel you need to paint the bloody road here shoddy infrastructure ha become roadblock to the development of selfdriving car vexing engineer and adding time and cost poor marking and uneven signage on the 3 million mile of paved road in the united state are forcing automaker to develop more sophisticated sensor and map to compensate industry executive say tesla ceo elon musk recently called the mundane issue of faded lane marking crazy complaining they confused his semiautonomous car an estimated 65 percent of u road are in poor condition according to the u department of transportation with the transportation infrastructure system rated 12th in the world economic forum 20142015 global competitiveness report tesla volvo mercedes audi vowg_pde and others are fielding vehicle that can drive on highway change lane and park without human help but they are easily flummoxed by faded lane marker damaged or noncompliant sign or light and the many quirk of roadway infrastructure managed by thousand of state and local bureaucracy in other developed country greater standardization of road sign and marking make it easier for robot car to navigate in the u however traffic light can be aligned vertically horizontally or doghouse style in two column pavement marking use paint with different degree of reflectivity or dont exist at all if the lane fade all hell break loose said christoph mertz research scientist at carnegie mellon university but car have to handle these weird circumstance and have three different way of doing thing in case one fails to make up for roadway aberration carmaker and their supplier are incorporating multiple sensor map and data into their car all of which add cost mercedes say the drive pilot system found in it recently unveiled luxury class 2017 sedan work even with no lane marking the system which incorporates 23 sensor take into account guard rail barrier and other car to keep car in their lane up to 84 mile 135km per hour under suitable circumstance boston consulting group estimate that initial semiautonomous feature add 4000 to car price it estimated carmaker will have to spend more than 1 billion over the next decade in research investment for even more sophisticated autonomous feature on good road in daylight camera installed around car are sufficient to distinguish road line traffic light and sign but without lane marking the car need more technology to judge it position enter radar and lidar which send out radio wave or light pulse to bounce off object the data sent back informs the car about object their distance and velocity triangulating between tree to the right boulder to the left and other vehicle ahead for instance can give the car it bearing a host of company including silicon valley firm quanergy and velodyne and international supplier like parisbased valeo are vying to reduce the cost and size of lidar from the bulky 75000 velodyne version first seen on the roof of google selfdriving car in january quanergy unveiled small 250 lidar with no moving part automaker want the price to drop below 100 for production vehicle which quanergy promise to do by 2018 subpar road are fueling effort by company such a germany here and dutch company tomtom to create three dimensional map that can provide the car location on the road within centimeter said chris warrington ceo of mapping technology company geodigital automaker are looking to pay 5060 per car for such map which may be well below the actual price said warrington we know theyre coming but they dont exist yet thats why lane marking are so important now said gary obrien director of advanced engineering for automotive supplier delphi automotive system plc obrien snap photo of bad road when he travel look at this there are no lane marking at all obrien said showing picture he took on desert road in bluff utah where the demarcation between the road and ground is barely visible some official envision traffic signal that communicate with car at dangerous intersection and vehicle that can signal each other their position direction and speed the u department of transportation smart city challenge competitive grant program will offer up to 40 million this summer to help one city integrate new technology which could include infrastructure for selfdriving car the transportation research board an independent group that advises the government plan to issue recommendation for standardized lane marking for machine vision by 2017 by then several automaker say they plan to offer model with some form of autonomous highway driving paul carlson research engineer focused on infrastructure at texas am university said he get call from transportation official asking how to accommodate robot car he tell them to aim for consistency make up your mind people do you want your traffic light vertical or horizontal reporting by alexandria sage',\n",
              "       ' the government agency tasked with guiding relief and recovery effort after catastrophic natural disaster ha decided not to take climate change into account a it plan ahead for the future on thursday the federal emergency management agency released it 20182022 strategic plan document it describes a setting fema overall vision with the aim of readying the nation for catastrophic disaster while it concedes disaster will become more devastating and more costly in the next five year fema ha stripped all mention of climate change from the 38page document despite it being significant cause of exactly the type of damaging storm theyre preparing for instead of acknowledging the risk posed by climate change fema said rising natural hazard risk decaying critical infrastructure and economic pressure that limit investment in risk resilience are primarily to blame weather and climaterelated disaster cost the u 306 billion in 2017 making it the costliest most damaging year on record that figure and the damage behind it will increase a the temperature rise natural disaster have caused recordsetting amount of damage in the u said sen dick durbin dill in response to the 2017 figure when they were released in january there no denying that climate change will cost the u trillion more in the next decade and that we have financial and national security reason to act fema public affair director william booher defended the puzzling exclusion in an email to npr emphasizing the agency focus le on cause and more on mitigating their effect it is evident that this strategic plan fully incorporates future risk from all hazard regardless of cause booher wrote building upon the foundation established by fema previous two strategic plan this plan commits the agency and the nation to taking proactive step to increasing predisaster investment in preparedness and mitigation in contrast fema 20142018 strategic plan named climate change a prime contributor to increasing disaster risk and it urged we take action scientific evidence indicates that the climate is changing and significant economic social and environmental consequence can be expected a result the previous document warned changing climate is already resulting in quantifiable change to the risk community face showing that future risk are not the same a those faced in the past the emergency management community will need to adapt appropriately to these changing risk a they strengthen their risk management program',\n",
              "       ' a natural cloud of suspicion surround the act of selling used car like if it so great and dependable why are you getting rid of it however for one guy on craigslist selling his silver 1999 toyota corolla wa all about lifting that cloud with brutal unadulterated honesty and after reading his hilarious ad well be damned if you wont want to at least take it for test drive the ad ha since been removed from the site probably for being too real but one twitter user wa nice enough to preserve it for posterity some of the highlight include bluetooth nope sunroof nope fancy wheel nope rear view camera nope but it got transparent rear window and you have fking neck that can turn this car will outlive you it will outlive your child in the owner manual oil is listed a optional you could take the engine out of this car drop it off golden gate bridge fish it out of the water thousand year later put it in the trunk of the car fill the gas tank up with nutella turn the key and this puppy would fking start right up let face the fact this car isnt going to win any beauty contest but neither are you now thats how you sell an automobile whether it worked unfortunately remains unknown to u',\n",
              "       ' by curtis skinner san francisco april 7 reuters uber technology inc agreed to 25 million settlement to end civil lawsuit in california that accused the ridesharing company of misleading customer about the strength of it background check on driver prosecutor in los angeles and san francisco said on thursday uber must pay 10 million within 60 day and the remaining 15 million will be waived if ubercomplies with the term of the agreement for two year the san francisco and los angeles county district attorney said in statement it sends clear message to all business and to startup in particular that in the quest to quickly obtain market share law designed to protect consumer cannot be ignored san francisco district attorney george gascón said uber welcomed the settlement were glad to put this case behind u and excited to redouble our effort serving rider and driver across the state of california it said in statement the case wa filed in december 2014 by the two district attorney who alleged that uber misled it customer about the strength of it background check on driver the civil complaint also contended that uber driver work at airport without obtaining authorization and in the case of san francisco charged 4 extra fee to passenger traveling there without paying anything to the airport the agreement bar uber from making untrue statement about it background check and from charging airport toll in addition the company must ensure that it fare calculation meet state measurement standard uber said it ha already made many of the change including no longer calling it service the safest ride on the road or calling it background check the gold standard reporting by anet josline pinto in bengaluru and curtis skinner in san francisco editing by fiona ortiz',\n",
              "       ' week after the launch of his new netflix series ugly delicious restaurateur david chang ha announced new venture the chef and his business partner christopher chen are launching culturefocused entertainment and medium company titled majordomo medium monday press release noted majordomo medium is place for people to connect over the thing believe define culture travel food music sport exploration chang said in the release dont want to tell people what to do or show them the new cool thing plenty of place do that want to teach them how to find and understand new and different thing themselves and let them bring their friend along for the ride mary melton the former editorinchief of los angeles magazine will lead majordomos new editorial team the platform includes podcast series and several television show currently in development chang hope to encourage open dialogue and create platform where people can consider culture and race and have strong opinion while exploring their passion he explained in the release the restaurateur ha dabbled in various form of medium in the past founding food magazine lucky peach with veteran journalist peter meehan and chris ying in 2011 the outlet earned nine james beard award and national magazine award for general excellence at one point it boasted 30000 print subscriber after six year the magazine folded publishing it last issue in fall 2017',\n",
              "       ' ian burkhart lost the use of his hand and leg in 2011 when diving accident left him paralyzed but chip implanted in his brain ha since allowed the 24yearold to hold cup and play computer game at least in laboratory setting in the video above you can learn more about burkharts story and the surgery that helped change his life',\n",
              "       ' no one is sure what smart city is exactly but new contest will offer 50 million to the city with the most compelling vision of what this concept could be the department of transportation will provide 40 million dollar of the prize money in this smart city challenge and another 10 million will come from vulcan inc which oversees the business and charitable effort of microsoft cofounder paul allen the money will go toward implementing the winning city plan the first round of application in this smart city challenge is due feb 4 transportation secretary anthony foxx will host webcast tuesday at 315 pm et to answer question about the selection process and application requirement there will also be forum dec 15 in washington dc the video below hint at the outcome the department of transportation is looking for city where transportation just work gridlock is gone driverless taxi deliver you on time to train station better roadway and vehicle communicate seamlessly our city are our laboratory of innovation foxx said in dec 7 conference call with the medium a result he explained the department of transportation expects to see lot of variation in what community envision a smart city from technology element like autonomous vehicle connected vehicle electric vehicle data analysis smart electric grid and roadway electrification to how closely proposal are actually connected to the life of resident all these theme are part of the beyond traffic report the department of transportation published in february it safe bet that many city will lay out vision mashing up the internet of thing and driverless car with city resident toting smartphones that find and reserve nearby transit option and pay for them seamlessly during monday call with reporter vulcan president and coo barbara bennett showed great interest in tackling greenhouse gas emission from transportation system which mean it likely that finalist proposal will have strategy for city to tackle climate change including transitioning from carbonbased fuel to clean energy source unlike many other federal prize and challenge that encourage individual citizen to submit idea or invention however this effort is focused on entire community specifically the challenge is for midsized city with population between 200000 and 850000 people a of the 2010 census that mean charlotte seattle and denver could apply but philadelphia or houston could not city also must have an established public transportation system leadership and capacity to implement the grant and an environment that is conducive to demonstrating proposed strategy dysfunctional city need not apply in the coming month big tech company will talk up topdown approach to smart city while civic technologist will focus on bottomup approach in between city government will need to explain why spending 50 million dollar on these idea will make real difference to resident particularly in the context of 200 million dollar boondoggle like dc trolley project the collective challenge will be to ensure that the smart city empower resident a opposed to locking them in the invisible barbed wire of surveillance society in the past mass surveillance ha been bad for the urban poor this smart city challenge is golden opportunity for mayor to talk about what installing smart object will mean to their community from parking meter and street light to bus and garage in the 21st century the consent of the governed wont just mean no taxation without representation it will increasingly mean no data collection without consent city government need to ensure that resident have an opportunity to know whats being proposed and installed in their name once sensor are installed and start collecting data the conversation will shift to how data will be used and by whom rather than whether the data should be used at all',\n",
              "       ' the arcaboard in action put down your tabletunless youre flying gyrocopter or drone or youre sailing on fan or jetpowered hovercraft or two wheeled hoverboard and look up in the sky for new highflying tech hft or down the street to see pack of kid coming each on some onewheeled thingsomething new is upon u throw in robot even one that can gallop and run like pissedoff bull or the nonnasa rocket launched into space and built by some new rich kid on the block car with no human driver or wheeled thing that can even climb wallsit is becoming clear that something is up for better or worse we have entered the age of the highflying tech hft gadgeteer new gang of inventor that stopped staring at screen and started building thing not since the skateboard with the exception of the segway can remember any serious challenge to the classical bicycle or motorcycle but now there is flock of many new wheeledthings or one that are moving and got rid of the wheel but are still not antigravity and the definition are blurring drone gyrocopter hoverboard jet pack and radio controlled thingamagigs are going to start changing our life the bottom line is that people are leaving the comfort of sitting in front of screen which dominated the last decade and are now building thing that move and flysome even controlled by your cell phone ill go through some of the driver to this brave new wacky world but let me introduce you to some of these new toy on the blockmost of which are highlighted on youtube where you can see them actually move hoverboards hoverboard got it name from the movie back to the future part ii where marty mcfly played by michael fox is in future where antigravity is tamed and he us futuristic skateboard that float hoverboard with two wheel the first type of hoverboards do not hover but have wheel and place to stand and someone figured out how to make them stable there are hundred of brand worldwide and over the last christmas season they were all the rage this is the minisegway selfbalancing 2wheel hoverboard one wheeled wonder another version that ha been whizzing around my neighborhood are the one wheeler this snapshot of google search on june 10th 2016 show that there are now host of different configuration some device require you straddle one large wheel while others are two smaller contraptionsone on each footrollerskates on steroid there also onewheelinthemiddle version resembling more traditional looking skateboard here review for the self balancing onewheel electric scooter unicycle hoverboards that hover with magnetism the lexus hoverboard however hovers and it is based on the science of magnet and super conductor lexus thats right the car company even built skateboardlike track to show it off notice the mist on the left side of the picture and some onlooker hand between the board and the ground and similar to this is hendos hoverboard that also us magnetism to float see skateboard guru tony hawke use it flying chess board this trend of reinventing the power of magnet with computer control is going to also bring lot of new product here levitating chess board or check out the clm 2 levitation module hoverboards drone and gyrocoptersflying machine however the new kid on the block is large green rectangle that us fan and computer smart the arcaboard which we featured in the beginning is for sale at cool 14900 here are the gut of the board gyrodronehovercraft this hoverboard is crossover to the drone and the gyrocopter world the flying sport car in back to the future ii doc show up driving an antigravity car that run on garbage now with the ability to have lightweight material and the rotor of drone in 2016 at the consumer electronics show the ehang 184 megadrone world first self driving taxi car caused bit of stir small gyrocopters ha been around for decade one ha only to remember the james bond movie you only live twice that featured little nellie however these are different when we think of personal commuting vehicle doubt many thought of flying car a reality however with driverless car which have gps anticollusion and host of other trick like sonar and radar built in there are host of company working on this especially combined with hft while personally have doubt about driverless vehicle whether it on highway or virtual skyhighway a rich play toy expect to see these hft personal vehicle in the air over the next five year 2016 the year of the drone and since we are in the air let talk drone this collection of drone wa found in google search at the end of 2015 there are now thousand of company building drone with 4 rotor being common there were even number of them on sale this christmas in the century 21 department store in brooklyn these are wireless controlled device some actually can use your wireless phone there are expensive one that do very precise photography and military spy stuff or the cheap one that are more like an electronic kite that you control but thats not what all this is about expect to see personal selfie camera that fly swarm of small drone that you control large floatingflying advertising or wargamingdrones where the drone are dressed a starcruisers or the star war millennium falcon meanwhile amazon and others are working on using them to deliver package but they will also be the eye for fireman going into buildingwanting to see whats in front or drone that get to fire first to see how bad it is or police patrol where they can cover lot more block or however coming full circle the disney research vertigo us both wheel a well a fan to climb wall or go over the ground and some will be controlled by your phone some by controller some by glovelike thing or even thought control which is whole other issue a few technological thing seems to have fallen into place so whats going on first computer and electronics have added stability the ability to have drone tech required the ability to coordinate the multiple rotor and the ability to be stable in the air ive been told this is because the drone tech had been designed by the military and ha been seeping into design for the public use but stability is also what make the magnetic levitation system work a they keep the power of the magnet stable and controlled through computer second there ha been flood ten of thousand of people and company worldwide throwing new addition into the mix but it is the internet with hang out like youtube where anywhere in the world some kid can explore whats out there currently and what work and doesnt and can order the component immediately or get in touch with others working on these newfangled gadget that is driving collective group think and third the component part are getting lighter the part are getting cheaper they are getting miniaturized and more durableand they are getting smarter with advance in computer and aiartificial intelligence this ha been path in tech for a long a tech existed but sped up with the different component part being readily available and note that there is also 3d printing where the printer can fabricate part based on plan sent anywhere in the world via the internet finally this future will also be filled with law suit new regulation and complaint about new regulation in july 2015 william merideth shot down drone in his backyard in kentucky and wa cleared of all charge according to cnet it wa case that gripped the nation or at least kentucky should it have temporarily escaped your pressured memory william merideth in july said he saw drone flying above his property in hillview kentucky he believed it wa spying on his 16yearold daughter who wa sunbathing in the garden so he took out his shotgun and blasted the drone out of the sky he wa arrested for wanton endangerment and criminal mischief now kentucky court ha declared merideth an innocent man and while some of these product may never stick or be economically feasible a commercial product one thing is clear highflying tech machine and new wheeled thing are going to be in our future here video of the flyboard which look more like an hft from the movie spiderman that wa flown by the green goblin the video show man and his jet powered flying machine setting new record documented by the guinness book of world record april 2016',\n",
              "       ' scott dinsmores ted talk how to find work you love wa already viral hit now it getting new wave of attention after dinsmore died tragically last month the 33yearold wa struck and killed by falling rock while climbing mount kilimanjaro with his wife the two had taken time off together to travel around the world below watch dinsmores talk delivered in san francisco in 2013 via ted dinsmore quit job that made him miserable and spent the next four year wondering how to find work that wa joyful and meaningful he share what he learned in this deceptively simple talk about finding out what matter to you and then getting started doing it sophia is project to collect life lesson from fascinating people subscribe to get our update directly via facebook or email or share your own wisdom',\n",
              "       ' the ncaa board of governor announced on thursday they adopted new sexual violence policy the policy adopted after recommendation from the commission to combat campus sexual violence requires college athlete and administrator to annually complete sexual violence education while the ncaa announced this policy to fanfare it merely follows what is already required under the federal jeanne clery act which includes nearly 55000 per violation fine for college that violate the requirement and more is required for there to be true accountability for violent behavior in collegiate athletics what it doesnt contain is enforcement or accountability that approach penalty reaching the level a the purchase of hamburger for studentathlete the school president or chancellor athletics director and title ix coordinator will be required to annually attest that the education wa conducted this provides slightly more accountability than the clery act amended by the violence against woman reauthorization act of 2013 which merely requires that all incoming student and employee receive sexual violence education and that there be ongoing educational campaign it however is far short of the type of reform that both of u and other advocate have been seeking for several decade this policy wa approved by the ncaa board of governor representative from conference who are either president or chancellor concerning is whether these board of governor overseeing major national university did not know that this policy simply mirror existing federal policy or they did know and passed it off a groundbreaking because the general population do not know what the clery act is the ncaa wa lobbied in 2010 to address sexual assault and domestic violence by emulating the standard in title ix and adding accountability when female athlete have become victim of male athlete then the ncaa should absolutely have policy a the governing body of all studentathletes in fact collegiate athletic conference have chosen to take step much more effective than the ncaa such a transfer policy and denying entrance to athlete investigated for sexual assault or domestic violence the ncaa doesnt have policy that would have addressed the allegation of violence against ezekiel elliott during his time at ohio state leaving it to the nfl to act now but the nfl is an employer the ncaa ha an unpaid labor force the ncaa say it cannot be state actor status the ncaa ha fought for in ncaa tarkanian all the way to the supreme court but remains debatable given other state athletic association ruling and the ncaas own investigation into penn state and montana in fact the ncaas lack of institutional control infraction should be cited by the ncaa for program like baylor who ha shown exactly that they could have used it in the new policy a an enforcement measure they didnt at the very least when collegiate athlete ha been found responsible for or convicted of an act of violence they should lose their privilege to compete on behalf of their institution competing and serving a an ambassador of the institution is an honor and privilege that is not deserved by those who commit senseless violence of course now if student athlete leaf one school they can simply transfer to and play for another institution unless they are one of the institution or are in one of the conference that banned transfer or incoming freshman athlete with violent history thats leadership s daniel carter and katherine redmond brown are cofounder of safety advisor for educational campus llc safe campus llc which provides the higher education community high quality subject matter expertise on broad range of campus security issue including sexual violence alcohol and other drug and emergency management',\n",
              "       ' in 1873 union pacific completed the final track linking the two half of the transcontinental railway by bridging the missouri river between council bluff iowa and omaha nebraska the megaproject inaugurated new industrial era in the united state that transformed the nature not just of work and life but also of time and space soon new phrase would be used to describe the location of workplace people good and entire city they were either online or offline the line being the railway itself either you were connected or traveling on that connecting line or you werent this distinction had consequence online which lost it hyphen sometime before aol launched now refers to our connection to the internet and it million of active website our phone are almost always connected to the internet but we tend to consider ourselves online when we are actively engaging on website usually some kind of social medium platform the problem of facebook the most popular such platform in the u is in part problem of metaphor this much wa made clear during facebook ceo mark zuckerbergs hearing on the hill earlier this week lawmaker seemed to operate from very different conception of the social medium giant is facebook publisher wondered sen dan sullivan ralaska is facebook selfregulated superstructure for political discourse mused rep john sarbanes dmd if buy ford and it doesnt work well and dont like it can buy chevy said sen lindsey graham rsc in line of inquiry that went to the heart of the facebook question if im upset with facebook whats the equivalent product that can go sign up for last fall new york magazine max read listed various proposed comparison for facebook that hed come across state the eu the catholic church star trek united federation of planet more metaphor have bloomed in the aftermath of the cambridge analytica scandal facebook is like record company facebook is like fashion designer how can we begin to work on the question of what to do with facebook if we cant even agree on what facebook look like but perhaps the answer is a plain a the ground beneath facebooks sixth u data center which is currently under construction just outside omaha the center will open in 2023 exactly 150 year after the transcontinental railroad wa completed nearby maybe history ha handed u the right metaphor facebook is like the railroad in sense it hardly metaphor at all the internet and the railroad share the same physical space a ingrid burrington explained in an article for the atlantic in 2015 and david bank explored in scholarly journal article published the same year railroad rightofways have been used by every communication medium from telegraph wire to telephone line to fiber optic cable now digital platform corporation build their data center on these same line the late sen ted stevens wa right the internet is best thought of a series of tube not big truck just like the railroad before them platform company like facebook and google are piece of infrastructure albeit new type of infrastructure they connect people and transform society politics the nature of time and space itself and like the railroad and phone company before them they can be regulated or broken up whether they provide physical service or not this is important to acknowledge now a discussion about regulation move forward in washington following the revelation about cambridge analytica political consulting firm that harvested data from approximately 87 million facebook user facebook like google like amazon is thing or more precisely concatenation of thing these digital platform are not unearthly beast that exist apart from the real world they are realworld entity that posse corporeal form what their owner do with them and what their user do on them are real action that have real consequence just look at the past four year if you have any doubt notion that the internet is separate from real life have existed since the dawn of the web while comedian like dave chappelle mine this sentiment for joke the real beneficiary of this idea are the corporate executive who run the giant online platform currently eluding regulation if people believe that online life is distinct from what we now call real life that digital capitalism is somehow le real than the industrial capitalism on which it is quite literally founded then the impression will settle in that online company cant be regulated in the way offline company are regulated how can you write an agency rule about phantom how can you pas bill about cloud yet it quite clear that what happens online matter in offline life nearly 80 percent of american have facebook account political campaign are spending an increasing amount on digital advertising social movement including neonazis are organized on digital platform those platform have also become the best distribution tool for disinformation and propaganda a they favor individual emotional expression over reasoned discussion people have funeral for their online friend in massive multiplayer online game universe and of course the president of the united state occasionally threatens nuclear holocaust on twitter much of this activity however doesnt need to be regulated american can still vote out their president in the next election if they dont like his rage tweet about cable news story congress doesnt need to regulate anyones speech but congress could regulate the business side of the digital platform economy or force the platform giant to shrink to size at which no individual platform could alter society with the tweak of an algorithm thats being debated in policy circle right now and could soon be debated by congressional lawmaker therein lie the value of the railroad metaphor it zero in on the thingness of facebook sidestepping the free speech issue that so consumed many of the politician questioning zuckerberg in the capital this week congress can intervene for the same reason it intervened to regulate the railroad more than century ago power over infrastructure is political power railroad were the engine of 19thcentury industrial capitalism and a they became economic monopoly their market power translated into political power controlling the line that people and business rode on railroad could pick winner and loser by setting rate to benefit friend or cripple individual business john rockefeller standard oil monopoly colluded with the railroad to privilege his product over others railroad company worked to take over the political apparatus of state government and the national government by handing out free rail pass to their preferred political party installing railroad ally in office shortchanging state by evading tax and of course directly trading stock gift and cash for public good the concentrated private political influence of monopoly violated the longstanding american democratic spirit of one manone vote a corporation built nationwide network of infrastructure that held power over government monopoly mattered even more this is what the muckraking journalist henry lloyd wrote in 1881 when he argued that the railroad problem may indicate whether the american democracy like all the democratic experiment which have preceded it is to become extinct because the people had not wit enough or virtue enough to make the common good supreme that railroad problem wa that the railroad themselves were captive to an even bigger monster standard oil which used it massive market position to crush competitor by forcing the railroad to raise rate on other oil producer this then altered the economic and political life of state subject to standard oil decision congress began to take action against the railroad problem in 1890 when it enacted the landmark sherman antitrust act the law author sen john sherman rohio decried the power of monopolistic railroad on the floor of congress if we will not endure king a political power he said we should not endure king over the production transportation and sale of any of the necessary of life it wa clear to sherman that economic power wa political power his law wa later used to break up standard oil under the administration of president teddy roosevelt today digital platform behemoth like facebook and google are the major private designer of american life they make decision that affect the flow of information and pick political winner and loser with little democratic input news organization find themselves at the whim of algorithm determined by digital platform the campaign of future lawmaker who would oversee digital platform are dependent upon them to reach voter and meanwhile those platform spend ten of million of dollar on lobbying and campaign contribution to influence politics to their benefit once again this is market power translating to political power some lawmaker see this clearly a evidenced by their questioning of zuckerberg do you think you have moral responsibility to run platform that protects our democracy rep anna eshoo dcalif asked rep bill flores rtexas stated outright that facebook operates a monopoly just like standard oil and ma bell the nickname for the telephone giant that began a bell telephone and ended a att those corporation either colluded with and abused infrastructure monopoly to their benefit standard oil or were infrastructure monopoly themselves ma bell these company were started by entrepreneur and their company grew and eventually became detached from everyday american flores said and then what happens is policymakers had to step in and reestablish the balance between those folk and everyday american the congressman then veered into aggrieved irrelevancy about constituent whose conservative posting were supposedly being banned or stopped but for moment flores had been saying something useful and insightful he wa talking straightforwardly about facebook a thing thing with power that needed to be handled a such mean he said weve seen it before',\n",
              "       ' by delece smithbarrow the hechinger report washington bill proposed by republican in the house of representative could change the collegefinancing system dramatically moving billion of dollar out of financial aid program if hr 4508 becomes law college affordability would go from bad to worse say many higher education expert and student from lowincome background would suffer most according to an analysis by the nonpartisan congressional budget office  the net loss of fund to student over the next 10 year would be almost 15 billion if the bill is enacted a written other analyst say that figure would be even higher the bill known a the promoting real opportunity success and prosperity through education reform prosper act would also make more money and regulatory flexibility available to forprofit college many of which have been cited for high cost low graduation rate and history of taking advantage of lowincome student and military veteran if enacted it would decimate the loan repayment safety net for lowincome borrower said ben miller senior director for postsecondary education at the center for american progress leftleaning think tank it would expose student to unscrupulous actor especially in the forprofit space and it would do nothing to actually address the real problem we have around completion and equity the higher education act first passed in 1965 and revised perodically regulates how the federal government financially assist postsecondary institution and student it governs how federal student loan are distributed who is eligible for federal financial aid how loan must be repaid and which institution can receive federal money the prosper bill wa moved out of committee by house republican in december the senate is holding hearing to develop it own version with the national student debt hovering around 13 trillion lawmaker parent and student have been cry out for fix to the higher education lending system but many see the new bill proposed fix a harmful to those who most need the boost toward the middle class that come with college education for some it would make college le affordable altogether for others it would add to the debt burden they would carry after college to meet it stated goal of simplifying the many federal grant and loan program the house bill proposes streamlining application process which could help student and their family but also eliminating several of those program among the proposed cut are grant program including teacher education assistance grant for those who agree to teach after college for four year in public school serving lowincome family and federal supplemental educational opportunity grant additional grant money for qualified undergraduate student from the lowest income level the bill would also eliminate some loan program including key loan program for graduate student and some beneficial repayment option these include the option for some lowincome student to extend their repayment plan without extra interest and program that forgives loan after 10 year of repayment for those working in government or nonprofit publicservice job forprofit institution conversely would benefit from the proposed bill because it would eliminate the 9010 rule which currently prevents these institution from receiving more than 90 percent of their revenue through federal financial aid the rule push school to create program that enable student to be successful after graduation because some revenie is coming directly from student or employer before the 9010 rule wa instituted forprofitcolleges often enrolled lowincome student who had little prospect of earning degree obtained those student federal grant and loan money and suffered no consequence when the student dropped out or received substandard education a forprofit college could be hundred percent federally funded if the prosper act becomes law miller said the bill would also narrow the eligibility requirement for deferment of loan and require those in certain type of payment plan to pay more than previously expected for example the percent of whats defined a discretionary income that borrower must pay under an incomedriven repayment plan would increase from 10 to 15 percent and the bill would require even fulltime student from lowincome background to pay interest on their federal loan while they are pursuing their degree currently student are not responsible for any interest while they are in school undergrad student with low expected family contribution should not have to accrue interest while in school said jean mcdonald rash chair of the higher education loan coalition group of financial aid professional who work to improve federal loan program she said the group ha many concern about the bill in it current form for example a noted the new bill proposes ending the public service loan forgiveness program which benefit student who go into nonprofit field or government work and are not likely to earn large income we think thats very important to attract student into those kind of field of study said mcdonald rash who also director of financial aid at rutgers university some believe that with fewer option from the government to pay for school student and educator would have to think more carefully about how to finance the cost of degree currently school dont have an incentive to lower their price because student can use government aid to foot the bill said mary clare amselem an education policy analyst at the heritage foundation rightleaning think tank overwhelming economic evidence is suggesting that heavily subsidizing federal student loan ha led to college tuition increase amselem said school know that pretty much regardless of what they charge student are going to be able to find the loan from the federal government amselem also belief the new bill would push student to borrow from private lender which she say is good thing the federal government control 90 percent of the student loan market so theyve virtually crowded out private lender she said think if we had more option for student we would have very robust very competitive market that would offer really great option for student rep virginia foxx rnc chairwoman of the house committee on education and the workforce introduced the new bill in december it wa voted out of committee on straight partisan line and sent for debate in the full house our proposal offer the same deal for everyone regardless of occupation and put downward market pressure on institution to keep cost down rep foxx said in an emailed statement additionally the prosper act put additional funding behind the timetested cornerstone of financial aid for lowincome student the pell grant pell grant are awarded to student most in need to qualify family income must usually be below 50000 year the maximum grant for the 201819 school year is 5920 under the proposed new bill pell recipient would receive an additional 300 if theyre taking at least 15 academic credit per semester provision designed to encourage people to finish college a quickly a possible the education trust and 34 other organization including the naacp and the national association for college admission counseling wrote letter to several member of congress in which they said the proposed act exacerbates the increasing burden of student debt and continued inequity in higher education access and outcome it would make higher education le affordable saddle student with greater debt and push more student into loan default while bill this vast nearly 600 page ha number of pro and con many say it not an even split there couple thing here and there that arent bad for lowincome student miller said but they are far outweighed by the litany of item that would hurt them sen lamar alexander rtenn chairman of the senate committee on health education labor and pension ha said he hope to see bipartisan version by early spring that can be recommended to the full senate this story wa produced by the hechinger report nonprofit independent news organization focused on inequality and innovation in education sign up here for our newsletter more from the hechinger report without change in education the future of work will leave more people behind overwhelmed by student debt many lowincome student drop out',\n",
              "       ' after two day of voting majority of employee at the trump international hotel in la vega have chosen to unionize the worker would be represented by the culinary worker union local 226 and the bartender union local 165 of unite here more than 500 employee were eligible to vote in the election which took place dec 45 the union reported the election result in press release monday but the national labor relation board still need to ratify it alma zamarin food server at the property said in statement that she is proud to work at the hotel but that she and her coworkers need fair wage good benefit and job security trump la vega worker have spoken loud and clear they want respect dignity and the la vega union standard said geoconda arguellokline secretarytreasurer of the culinary worker union trump la vega should recognize the worker vote immediately and sit down with u to negotiate contract a soon a possible the culinary worker union held protest outside of trump hotel in october one day before the first democratic presidential primary debate wa held just across the street democratic presidential hopeful hillary clinton made surprise appearance telling the worker that she stood with them you have to say no to effort to prevent you from organizing to prevent you from having the kind of working condition you deserve the kind of wage that are going to give you living wage clinton said at the rally and that mean saying no to donald trump the culinary worker union is nevada largest union and is major player in nevada politics in the 2008 democratic primary it endorsed barack obama over clinton the trump campaign did not return request for comment worker at trump hotel in toronto voted to unionize nine month ago and recently ratified their first contract also on huffpost',\n",
              "       ' if pope francis prayer are answered humanity will devote more of it collective effort toward cleaning up our planet instead of polluting it how and where he think technological progress should play role in those effort is more complicated question president barack obama officially welcomed the pope to washington dc on wednesday at the white house francis began his remark by applauding the united state history of immigration he went on to say that climate change wa an issue that must be addressed now mr president find it encouraging that you are proposing an initiative for reducing air pollution the pope said a obama looked on he continued accepting the urgency it seems clear to me also that climate change is problem which can no longer be left to future generation when it come to the care of our common home we are living at critical moment of history we still have time to make the change needed to bring about sustainable and integral development for we know that thing can change laudato si 13 such change demand on our part serious and responsible recognition not only of the kind of world we may be leaving to our child but also to the million of people living under system which ha overlooked them video of the pope full remark is embedded below the pope recent focus on climate change ha not been uncontroversial in the u where the partisan divide over global warming remains a wide a ever despite the overwhelming scientific consensus on the matter according to the pew research center 68 percent of american believe global warming is occurring but only 22 percent of republican say that it because of human activity something that nearly all of the world scientist agree to be the case the hottest summer on record ha done little to shift those view much le galvanize the republicancontrolled congress to take action it seems unlikely that the pope address to the u legislature on thursday will alter the trajectory of that debate based on generous reading of the encyclical that francis wrote earlier this year it seems like he would probably endorse the white house use of open climate data in the hope of increasing the resilience of the coastal city where majority of humanity will live in future decade and enabling governor and mayor to protect hundred of million of people after all in june letter to the catholic church the pope laid out moral case for fighting climate change grounded in the need to protect the poor from pollution and environmental degradation in that letter the pope embraced and supported the development of clean technology including solar energy to replace fossil fuel but even a he heralded technology a possible solution he decried not only the role that industrialization ha played in pollution but also modern mindset that exalts the use of technology to manipulate the natural world it can be said that many problem of today world stem from the tendency at time unconscious to make the method and aim of science and technology an epistemological paradigm which shape the life of individual and the working of society he wrote given the catholic church history with practitioner of the scientific method we might be inclined to take that with grain of salt but in fairness the church ha moved away from being an enemy of science in recent century pope francis himself appears to have something of lovehate relationship with technology the 78yearold pontiff who hold degree in chemistry ha supported the application of technology in various area including genetic modification in agriculture and ha called the internet gift from god he also urged young people not to waste time online or on smartphones which almost all of u do the man often described a the most influential world leader on twitter us social medium to communicate with the public a pontifex albeit not personally he ha confessed to being disaster with machine himself the pope ha also urged family to employ technology thoughtfully using screen sense a well a common sense when it come to incorporating device into our life by growing daily in our awareness of the vital importance of encountering others these new possibility we will employ technology wisely rather than letting ourselves be dominated by it he wrote in january the pope called attention in his climate change encyclical to the limit of taking an explicitly technocratic approach to complex social economic and environmental issue ecological culture cannot be reduced to series of urgent and partial response to the immediate problem of pollution environmental decay and the depletion of natural resource he wrote there need to be distinctive way of looking at thing way of thinking policy an educational programme lifestyle and spirituality which together generate resistance to the assault of the technocratic paradigm in his encyclical pope francis expressed concern about the effect of technology on our capacity to make decision and find space for creativity more subtly he wrote about the need to use technology in moral and ethical way one that make change possible without abandoning our ideal of freedom and justice but he also acknowledged that in many way technology ha improved life in way that would have once seemed impossible we are the beneficiary of two century of enormous wave of change steam engine railway the telegraph electricity automobile aeroplane chemical industry modern medicine information technology and more recently the digital revolution robotics biotechnology and nanotechnology the pope wrote it is right to rejoice in these advance and to be excited by the immense possibility which they continue to open up before u for science and technology are wonderful product of godgiven human creativity whether or not you agree with his view on technology and not everyone doe the pope focus on applying tech for public good and his habit of calling attention to the ethical question that disruptive technology can pose to society are bringing more sunlight to issue that deserve it i think thats valuable public service and it one reason among many that welcomed pope francis to washington on wednesday here hoping that his presence brings about more connection not more controversy',\n",
              "       ' it wa privilege and an honor for me to have the opportunity to interview john hagel who brings 30 year of experience of working at the intersection of business strategy and technology a management consultant author speaker and entrepreneur hagel is the cochairman of deloittes center for the edge where he is helping to identify emerging business opportunity and persuade ceo to put them on their agenda hagel frequently blog about business and technology strategy john hagel deloitte deloittes center for the edge considers the digital technology infrastructure to be one of the core force which is getting exponentially better every year but hagel say there is delicious paradox being that the very same technology that bring awesome opportunity and new possibility at same time bring mounting performance pressure accelerating change and growing uncertainty he call this the dark side of technology and it ha real implication for business that have been built around the notion of predictability standardization and tight integration to remove inefficiency the effect of the dark side are showing up in research number the center for the edge ha documented that for all public company in the u since 1965 the return on asset ha collapsed by 75 additionally there is the declining age of the sp 500 which ha gone from 61 year in 1960 to just 16 year today hagel say the problem and opportunity is that both the digital technology component computing storage and bandwidth a well a the infrastructure are not stabilizing which lead to company that are running faster and faster yet falling farther and farther behind according to hagel we are going into period where there is going to be no stability period of punctuated disruption coming at faster and faster rate business will have to adopt different set of practice and rethink at the most basic level the institution they have built to figure out how to not only survive but thrive in world where exponential technology will continue to drive uncertainty rapid change and instability in his latest book the power of pull hagel capture the essence of the change going on in today business landscape here he offer his advice the bright spot on how company can survive and even thrive in this new kind of world 7 way for individual and institution to thrive in these disruptive time 1 practice the power of pull according to hagel we are in the transition of going from world of push to world of pull it is harder to predict and forecast in an uncertain world and those who master the power of pull will survive say hagel who offer the following three level of pull for drawing out resource where and when you need them in scalable way so you can operate in world of increasing uncertainty these 3 level together come into play in powerful way in this new world and create opportunity small move smartly made can set very big thing in motion if you have scalable pull platform say hagel 2 focus on the long and very short term the paradox of success is that the more successful we are the more we come to rely on what brought u success and not even question it a uncertain a the world is executive need to fight the natural tendency in time of mounting pressure to shorten time horizon and instead take an outsidein perspective and engage in longer term thinking of where the world is headed hagel advises company to look ahead and on 1015 year time frame develop highlevel view of what their market or industry might look like and what the implication are for their company without doing this company get easily distracted by whats going on in the short term and risk spreading their resource too quickly on too many thing because they are in reactive mode next company need to flip it around and focus on the next 612 month not the typical next 15 year and ask what are the 2 or 3 activity that will have the greatest potential to accelerate movement based on the larger goal 3 move to model of scalable learning not only is scalable learning different rational and focus for an institution it is fundamentally opposed to the scalable efficiency model that is the predominant model for large company today if you are operating in an environment where predictability and low risk are the essence of success this is no space to innovate and without that you are not going to learn efficiency doe still matter so the question becomes how to achieve it in an increasing volatile and uncertain world hagel belief the way to get the highest level of efficiency is through scalable learning the idea behind the scalable learning model is that in rapidly changing world the faster everyone can learn at scale the better we will be company need to focus on broader ecosystem and connecting mobilizing and learning from third party rather than trying to do it all themselves one of hagels favorite quote is by bill joy one of the founder of sun microsystems no matter how many smart people you have in your organization just remember there are lot more smart people outside your organization hagel say you will never scale unless you can find way to connect with outside organization and create relationship where you are all learning faster than you could on your own 4 tap into the power of corporate narrative hagel draw distinction between story and narrative the later which he feel are powerful and will become very important to the pull thesis in term of engaging at an emotional level the essence of most story is that they are selfcontained they are about me the story teller or about those people not about you the listener narrative on the other hand is openended there is no resolution yet the resolution hinge on you and the choice you make will determine the outcome million of people have given their life for narrative how many people have given their life over story hagel asks 5 scale at the edge since politics can get in the way of transforming the enterprise hagel say the best way to drive change is not by trying to transform the core but going out to an edge that ha the potential to scale and ultimately become new core of the business doing this allows change agent to demonstrate the different approach to business that are going to be necessary on that edge and overtime pull more and more people and resource from the core to the edge to the point where the edge becomes new core hagel call this the methodology of scaling edge 6 ask the right question hagel say that one of the key change in leadership in rapidly changing world is that power come le from the answer you have and more from the question you ask in this new world the powerful leader are those who have the right question and help to focus people on the question that are most important this interesting reframing of what leadership is all about ha to do with the kind of network you build the old world hubandspoke network where everyone wa connected to the leader and the goal wa to get a many follower a you could is being replaced with the building of mesh network where leader are helping to create platform and environment where people can connect with each other around the question they are framing this help to find the right answer and move the ball forward we need to stop settling for the perfect answer to the wrong question 7 accept vulnerability a the path to earning trust in this new world trust is more essential to achieving goal individual and company with willingness to express vulnerability by admitting they dont always have the answer will build trust this is the polar opposite of the notion of building personal brand where we present all of our strength and accomplishment in the most compelling way and hide any weakness at the cost of undermining the brand being authentic will become increasingly important to participating in knowledge flow where key issue in the interest of learning faster is acquiring tacit knowledge hagel explains that tacit knowledge is the most valuable form of knowledge but the most difficult to share it is the knowledge in our head that come from new experience we often have trouble articulating this type of knowledge and it doe not flow easily which make it only accessible in the context of trustbased relationship if trust you will make an effort to try to frame the tacit knowledge have say hagel pulling this type of essential knowledge and learning place an increased importance on trustbased relationship at the end of the day the only sustainable pull is around trust based relationship say hagel it is the only way to amplify effort so that small move really do achieve amazing thing you can watch the full interview with john hagel here please join me and michael krigsman every friday at 3pm est a we host cxotalk connecting with thought leader and innovative executive who are pushing the boundary within their company and their field',\n",
              "       ' peter thiel is speaking at the republican national convention because he doesnt think we can fix our problem unless we can talk about them frankly the billionaire venture capitalist and facebook director said thursday in statement to wired many people are uncertain in this election year but most american agree that our country is on the wrong track he said he did not provide wired with any detail related to what he plan to talk about at the convention thiel an advocate of quixotic cause like infinite life extension and governmentless sea colony ha previously expressed pessimism about the future of the u he wrote in in 2009 that the 1920s were the last decade in american history during which one could be genuinely optimistic about politics since then he said the vast increase in welfare beneficiary and the extension of the franchise to woman two constituency that are notoriously tough for libertarian have rendered the notion of capitalist democracy into an oxymoron thiel later updated his comment with note saying that while he doe not think any group should be disenfranchised have little hope that voting will make thing better thiel is selfdescribed libertarian who will be delegate for donald trump at the convention and is on the released list of speaker for the event he will be the first openly gay speaker at the gop convention in 16 year thiels support of gay marriage and free trade a well a his opposition to government power over individual put him at odds with candidate who is against samesex marriage want to start trade war and seemingly cant stop talking about great torture is however maria bustillos wrote in new york magazine that thiels stated preference which he say have evolved since his college day seem closer to the quasimonarchical longing of the dark enlightenment set fear of the influence of the mass and firm belief in the supremacy of the strongwilled individual thiels disdainful view of press freedom is right in line with trump vow to open up libel law thiel admitted in may to secretly funding campaign of lawsuit against gawker in an attempt to destroy the company for writing about his sexuality and reporting critically at time caustically on the tech industry',\n",
              "       ' for candidate who tout his business acumen a top qualification for president donald trump sure doe alienate lot of business leader seventh generation ceo john replogle told the huffington post friday that the company is sitting on the sideline of the presidential race for now but were trump to actually make it to the oval office thing could be different donald trump is candidate he not an elected official at this stage said replogle whose vermontbased company produce ecoconscious home good we believe in the right of free speech even if it is full of divisive rhetoric and partisanship i wish the rhetoric for many people wa le damaging and hateful he said at this point he ha right a citizen to free speech we may differ on that but frankly there no action we can take against it at this stage but replogle added were donald trump to be an elected official and this were to continue think wed be very active in trying to make sure any policy he passed really represented all people in the u not discriminating against anyone seventh generation joined the legion of company earlier this year to protest north carolina socalled bathroom law widely seen a bigoted attack on transgender right the company refused to expand it business in the state unless the legislation is repealed despite that clear line in the sand seventh generation employee havent been too political with their money in 2016 of the meager 2150 donated by employee to political campaign this year 1900 went to vermont sen bernie sander presidential bid the other 250 went to erin schrode the 25yearold california democrat making historic congressional run of the growing list of company taking stand against trump most did so by withholding support from the republican national convention where seventh generation played no part the privately held company though small earned more than 300 million in annual retail sale a of 2014 figure slated to grow by about 20 percent per year that doesnt equate to the political clout wielded by for example apple but it something replogle pointed to his company action in north carolina a proof it wa ready to take action against legislation or other form of policy deemed discriminatory trump officially nominated last week a the republican party candidate for president ha repeatedly called for ban on muslim immigrant entering the country attacked woman and minority with overtly misogynistic and racist statement and given tacit wink to white supremacist who target jew and other group for vicious harassment seventh generation is far from alone in voicing it hesitation about trump the reality tv star whose candidacy ha been frequently called threat to american democracy apple refused to contribute fund or resource to last week republican national convention where trump wa formally nominated airbnb ceo brian chesky said trump nativist policy are on the wrong side of history buzzfeed ceo jonah peretti turned down lucrative advertising deal with the convention salesforce ceo marc benioff famed social activist who championed the fight in north carolina reluctantly came out against trump though he prefers to focus on why he support trump opponent presumptive democratic nominee hillary clinton taking stance against candidate even one a bombastic and controversial a trump come with serious risk and not just fear of reprisal from an unfriendly white house if trump were to win in november what happens when you write off that share of the market alyssa katz author of the influence machine the u chamber of commerce and the corporate capture of american life told huffpost in may of trump army of supporter it is risk to the business but for some company trump simply gone too far we have listened to donald trump over the past year and we have concluded trump would be disaster for innovation big group of tech executive wrote in an open letter published last week on huffpost his vision stand against the open exchange of idea free movement of people and productive engagement with the outside world that is critical to our economyand that provide the foundation for innovation and growth editor note donald trump regularly i ncites political violence and is serial liar rampant xenophobe racist misogynist and birther who ha repeatedly pledged to ban all muslim 16 billion member of an entire religion from entering the u'],\n",
              "      dtype='<U37359')"
            ]
          },
          "metadata": {
            "tags": []
          },
          "execution_count": 49
        }
      ]
    },
    {
      "cell_type": "markdown",
      "metadata": {
        "_uuid": "9493853ec664ba66d1dd3f4b65d3f222f861276c",
        "id": "VRncYivsN0f3",
        "colab_type": "text"
      },
      "source": [
        "**Use classification report to get more details**"
      ]
    },
    {
      "cell_type": "code",
      "metadata": {
        "trusted": true,
        "_uuid": "cf9b861cfd6e62d284c87d30e9b840c2271b60b2",
        "id": "EbGO5n40N0f5",
        "colab_type": "code",
        "colab": {
          "base_uri": "https://localhost:8080/",
          "height": 217
        },
        "outputId": "b840b87d-f096-400c-b127-37d31829e112"
      },
      "source": [
        "from sklearn.metrics import precision_score, recall_score, confusion_matrix, classification_report, accuracy_score, f1_score,precision_recall_fscore_support\n",
        "print(classification_report(predictions, y_test))"
      ],
      "execution_count": null,
      "outputs": [
        {
          "output_type": "stream",
          "text": [
            "              precision    recall  f1-score   support\n",
            "\n",
            "           1       0.86      0.80      0.83        85\n",
            "           2       0.91      0.96      0.94        76\n",
            "           3       0.87      0.80      0.84        82\n",
            "           4       0.91      0.94      0.92        65\n",
            "           5       0.78      0.85      0.81        67\n",
            "\n",
            "    accuracy                           0.87       375\n",
            "   macro avg       0.87      0.87      0.87       375\n",
            "weighted avg       0.87      0.87      0.87       375\n",
            "\n"
          ],
          "name": "stdout"
        }
      ]
    },
    {
      "cell_type": "code",
      "metadata": {
        "id": "ef5cy_dvvJdk",
        "colab_type": "code",
        "colab": {}
      },
      "source": [
        "x_train2, x_test2, y_train2, y_test2 = train_test_split(df['message'][0:3000].values.astype('U'), df['label'][0:3000], test_size=0.2)\n"
      ],
      "execution_count": null,
      "outputs": []
    },
    {
      "cell_type": "code",
      "metadata": {
        "id": "VNl1PMQm1mhR",
        "colab_type": "code",
        "colab": {}
      },
      "source": [
        "predictions_2 = text.predict(x_test2)"
      ],
      "execution_count": null,
      "outputs": []
    },
    {
      "cell_type": "code",
      "metadata": {
        "id": "EPrmDh5c2ycI",
        "colab_type": "code",
        "colab": {
          "base_uri": "https://localhost:8080/",
          "height": 150
        },
        "outputId": "ee383431-5fb7-48ea-84e9-49df260d8ebc"
      },
      "source": [
        "A = 0\n",
        "B = 0\n",
        "C = 0\n",
        "D = 0\n",
        "for i in range(len(y_test2)):\n",
        "  if y_test2.iloc[i] == 1 and predictions_2[i] == 1:\n",
        "    A += 1\n",
        "  if y_test2.iloc[i] == 1 and predictions_2[i] != 1:\n",
        "    B += 1\n",
        "  if y_test2.iloc[i] != 1 and predictions_2[i] == 1:\n",
        "    C += 1\n",
        "  if y_test2.iloc[i] != 1 and predictions_2[i] != 1:\n",
        "    D += 1\n",
        "R = A/(A+C)\n",
        "P = A/(A+B)\n",
        "\n",
        "print('TP:',A/(A+C))\n",
        "print('FP:',B/(B+D))\n",
        "print('Sensitivity:',A/(A+C))\n",
        "print('Specificity:',1- B/(B+D))\n",
        "print('Accuracy:',(A+D)/(A+B+C+D))\n",
        "print('Recall:',R)\n",
        "print('Precision:',P)\n",
        "print('F-measure:',2*R*P/(P+R))\n",
        "\n",
        "\n",
        "\n",
        "\n",
        "\n",
        "  "
      ],
      "execution_count": null,
      "outputs": [
        {
          "output_type": "stream",
          "text": [
            "TP: 0.9889705882352942\n",
            "FP: 0.10060975609756098\n",
            "Sensitivity: 0.9889705882352942\n",
            "Specificity: 0.899390243902439\n",
            "Accuracy: 0.94\n",
            "Recall: 0.9889705882352942\n",
            "Precision: 0.890728476821192\n",
            "F-measure: 0.9372822299651568\n"
          ],
          "name": "stdout"
        }
      ]
    }
  ]
}